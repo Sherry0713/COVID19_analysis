{
 "cells": [
  {
   "cell_type": "code",
   "execution_count": 1,
   "id": "34e493e2",
   "metadata": {},
   "outputs": [],
   "source": [
    "import xlrd\n",
    "import csv\n",
    "import pandas as pd\n",
    "import numpy as np\n",
    "import seaborn as sns\n",
    "import matplotlib.pyplot as plt\n",
    "import openpyxl\n",
    "from scipy import stats\n",
    "import warnings\n",
    "warnings.simplefilter(action='ignore', category=FutureWarning)"
   ]
  },
  {
   "cell_type": "code",
   "execution_count": 2,
   "id": "40196c66",
   "metadata": {},
   "outputs": [],
   "source": [
    "corona_dataset_csv = pd.read_csv(\"Dataset/time_series_covid19_confirmed_global.csv\")"
   ]
  },
  {
   "cell_type": "code",
   "execution_count": 3,
   "id": "15d9f6e2",
   "metadata": {},
   "outputs": [
    {
     "data": {
      "text/html": [
       "<div>\n",
       "<style scoped>\n",
       "    .dataframe tbody tr th:only-of-type {\n",
       "        vertical-align: middle;\n",
       "    }\n",
       "\n",
       "    .dataframe tbody tr th {\n",
       "        vertical-align: top;\n",
       "    }\n",
       "\n",
       "    .dataframe thead th {\n",
       "        text-align: right;\n",
       "    }\n",
       "</style>\n",
       "<table border=\"1\" class=\"dataframe\">\n",
       "  <thead>\n",
       "    <tr style=\"text-align: right;\">\n",
       "      <th></th>\n",
       "      <th>Province/State</th>\n",
       "      <th>Country/Region</th>\n",
       "      <th>Lat</th>\n",
       "      <th>Long</th>\n",
       "      <th>1/22/20</th>\n",
       "      <th>1/23/20</th>\n",
       "      <th>1/24/20</th>\n",
       "      <th>1/25/20</th>\n",
       "      <th>1/26/20</th>\n",
       "      <th>1/27/20</th>\n",
       "      <th>...</th>\n",
       "      <th>5/11/21</th>\n",
       "      <th>5/12/21</th>\n",
       "      <th>5/13/21</th>\n",
       "      <th>5/14/21</th>\n",
       "      <th>5/15/21</th>\n",
       "      <th>5/16/21</th>\n",
       "      <th>5/17/21</th>\n",
       "      <th>5/18/21</th>\n",
       "      <th>5/19/21</th>\n",
       "      <th>5/20/21</th>\n",
       "    </tr>\n",
       "  </thead>\n",
       "  <tbody>\n",
       "    <tr>\n",
       "      <th>0</th>\n",
       "      <td>NaN</td>\n",
       "      <td>Afghanistan</td>\n",
       "      <td>33.93911</td>\n",
       "      <td>67.709953</td>\n",
       "      <td>0</td>\n",
       "      <td>0</td>\n",
       "      <td>0</td>\n",
       "      <td>0</td>\n",
       "      <td>0</td>\n",
       "      <td>0</td>\n",
       "      <td>...</td>\n",
       "      <td>62403</td>\n",
       "      <td>62718</td>\n",
       "      <td>63045</td>\n",
       "      <td>63355</td>\n",
       "      <td>63412</td>\n",
       "      <td>63484</td>\n",
       "      <td>63598</td>\n",
       "      <td>63819</td>\n",
       "      <td>64122</td>\n",
       "      <td>64575</td>\n",
       "    </tr>\n",
       "    <tr>\n",
       "      <th>1</th>\n",
       "      <td>NaN</td>\n",
       "      <td>Albania</td>\n",
       "      <td>41.15330</td>\n",
       "      <td>20.168300</td>\n",
       "      <td>0</td>\n",
       "      <td>0</td>\n",
       "      <td>0</td>\n",
       "      <td>0</td>\n",
       "      <td>0</td>\n",
       "      <td>0</td>\n",
       "      <td>...</td>\n",
       "      <td>131803</td>\n",
       "      <td>131845</td>\n",
       "      <td>131890</td>\n",
       "      <td>131939</td>\n",
       "      <td>131978</td>\n",
       "      <td>132015</td>\n",
       "      <td>132032</td>\n",
       "      <td>132071</td>\n",
       "      <td>132095</td>\n",
       "      <td>132118</td>\n",
       "    </tr>\n",
       "    <tr>\n",
       "      <th>2</th>\n",
       "      <td>NaN</td>\n",
       "      <td>Algeria</td>\n",
       "      <td>28.03390</td>\n",
       "      <td>1.659600</td>\n",
       "      <td>0</td>\n",
       "      <td>0</td>\n",
       "      <td>0</td>\n",
       "      <td>0</td>\n",
       "      <td>0</td>\n",
       "      <td>0</td>\n",
       "      <td>...</td>\n",
       "      <td>124483</td>\n",
       "      <td>124682</td>\n",
       "      <td>124889</td>\n",
       "      <td>125059</td>\n",
       "      <td>125194</td>\n",
       "      <td>125311</td>\n",
       "      <td>125485</td>\n",
       "      <td>125693</td>\n",
       "      <td>125896</td>\n",
       "      <td>126156</td>\n",
       "    </tr>\n",
       "    <tr>\n",
       "      <th>3</th>\n",
       "      <td>NaN</td>\n",
       "      <td>Andorra</td>\n",
       "      <td>42.50630</td>\n",
       "      <td>1.521800</td>\n",
       "      <td>0</td>\n",
       "      <td>0</td>\n",
       "      <td>0</td>\n",
       "      <td>0</td>\n",
       "      <td>0</td>\n",
       "      <td>0</td>\n",
       "      <td>...</td>\n",
       "      <td>13447</td>\n",
       "      <td>13470</td>\n",
       "      <td>13470</td>\n",
       "      <td>13510</td>\n",
       "      <td>13510</td>\n",
       "      <td>13510</td>\n",
       "      <td>13555</td>\n",
       "      <td>13569</td>\n",
       "      <td>13569</td>\n",
       "      <td>13569</td>\n",
       "    </tr>\n",
       "    <tr>\n",
       "      <th>4</th>\n",
       "      <td>NaN</td>\n",
       "      <td>Angola</td>\n",
       "      <td>-11.20270</td>\n",
       "      <td>17.873900</td>\n",
       "      <td>0</td>\n",
       "      <td>0</td>\n",
       "      <td>0</td>\n",
       "      <td>0</td>\n",
       "      <td>0</td>\n",
       "      <td>0</td>\n",
       "      <td>...</td>\n",
       "      <td>29146</td>\n",
       "      <td>29405</td>\n",
       "      <td>29695</td>\n",
       "      <td>30030</td>\n",
       "      <td>30354</td>\n",
       "      <td>30637</td>\n",
       "      <td>30787</td>\n",
       "      <td>31045</td>\n",
       "      <td>31438</td>\n",
       "      <td>31661</td>\n",
       "    </tr>\n",
       "  </tbody>\n",
       "</table>\n",
       "<p>5 rows × 489 columns</p>\n",
       "</div>"
      ],
      "text/plain": [
       "  Province/State Country/Region       Lat       Long  1/22/20  1/23/20  \\\n",
       "0            NaN    Afghanistan  33.93911  67.709953        0        0   \n",
       "1            NaN        Albania  41.15330  20.168300        0        0   \n",
       "2            NaN        Algeria  28.03390   1.659600        0        0   \n",
       "3            NaN        Andorra  42.50630   1.521800        0        0   \n",
       "4            NaN         Angola -11.20270  17.873900        0        0   \n",
       "\n",
       "   1/24/20  1/25/20  1/26/20  1/27/20  ...  5/11/21  5/12/21  5/13/21  \\\n",
       "0        0        0        0        0  ...    62403    62718    63045   \n",
       "1        0        0        0        0  ...   131803   131845   131890   \n",
       "2        0        0        0        0  ...   124483   124682   124889   \n",
       "3        0        0        0        0  ...    13447    13470    13470   \n",
       "4        0        0        0        0  ...    29146    29405    29695   \n",
       "\n",
       "   5/14/21  5/15/21  5/16/21  5/17/21  5/18/21  5/19/21  5/20/21  \n",
       "0    63355    63412    63484    63598    63819    64122    64575  \n",
       "1   131939   131978   132015   132032   132071   132095   132118  \n",
       "2   125059   125194   125311   125485   125693   125896   126156  \n",
       "3    13510    13510    13510    13555    13569    13569    13569  \n",
       "4    30030    30354    30637    30787    31045    31438    31661  \n",
       "\n",
       "[5 rows x 489 columns]"
      ]
     },
     "execution_count": 3,
     "metadata": {},
     "output_type": "execute_result"
    }
   ],
   "source": [
    "corona_dataset_csv.head()"
   ]
  },
  {
   "cell_type": "code",
   "execution_count": 4,
   "id": "c4aeb5b8",
   "metadata": {},
   "outputs": [
    {
     "data": {
      "text/plain": [
       "(275, 489)"
      ]
     },
     "execution_count": 4,
     "metadata": {},
     "output_type": "execute_result"
    }
   ],
   "source": [
    "corona_dataset_csv.shape"
   ]
  },
  {
   "cell_type": "code",
   "execution_count": 5,
   "id": "0a440524",
   "metadata": {},
   "outputs": [],
   "source": [
    "df = corona_dataset_csv.drop([\"Lat\",\"Long\"],axis=1,inplace=True)"
   ]
  },
  {
   "cell_type": "code",
   "execution_count": 6,
   "id": "a3f34980",
   "metadata": {
    "scrolled": false
   },
   "outputs": [
    {
     "data": {
      "text/plain": [
       "(275, 487)"
      ]
     },
     "execution_count": 6,
     "metadata": {},
     "output_type": "execute_result"
    }
   ],
   "source": [
    "corona_dataset_csv.shape"
   ]
  },
  {
   "cell_type": "code",
   "execution_count": 7,
   "id": "54545616",
   "metadata": {},
   "outputs": [],
   "source": [
    "corona_dataset_aggregated = corona_dataset_csv.groupby(\"Country/Region\").sum()"
   ]
  },
  {
   "cell_type": "code",
   "execution_count": 8,
   "id": "2fdbd551",
   "metadata": {},
   "outputs": [
    {
     "data": {
      "text/plain": [
       "(192, 485)"
      ]
     },
     "execution_count": 8,
     "metadata": {},
     "output_type": "execute_result"
    }
   ],
   "source": [
    "corona_dataset_aggregated.shape"
   ]
  },
  {
   "cell_type": "code",
   "execution_count": 9,
   "id": "e14c0888",
   "metadata": {},
   "outputs": [
    {
     "data": {
      "text/html": [
       "<div>\n",
       "<style scoped>\n",
       "    .dataframe tbody tr th:only-of-type {\n",
       "        vertical-align: middle;\n",
       "    }\n",
       "\n",
       "    .dataframe tbody tr th {\n",
       "        vertical-align: top;\n",
       "    }\n",
       "\n",
       "    .dataframe thead th {\n",
       "        text-align: right;\n",
       "    }\n",
       "</style>\n",
       "<table border=\"1\" class=\"dataframe\">\n",
       "  <thead>\n",
       "    <tr style=\"text-align: right;\">\n",
       "      <th></th>\n",
       "      <th>1/22/20</th>\n",
       "      <th>1/23/20</th>\n",
       "      <th>1/24/20</th>\n",
       "      <th>1/25/20</th>\n",
       "      <th>1/26/20</th>\n",
       "      <th>1/27/20</th>\n",
       "      <th>1/28/20</th>\n",
       "      <th>1/29/20</th>\n",
       "      <th>1/30/20</th>\n",
       "      <th>1/31/20</th>\n",
       "      <th>...</th>\n",
       "      <th>5/11/21</th>\n",
       "      <th>5/12/21</th>\n",
       "      <th>5/13/21</th>\n",
       "      <th>5/14/21</th>\n",
       "      <th>5/15/21</th>\n",
       "      <th>5/16/21</th>\n",
       "      <th>5/17/21</th>\n",
       "      <th>5/18/21</th>\n",
       "      <th>5/19/21</th>\n",
       "      <th>5/20/21</th>\n",
       "    </tr>\n",
       "    <tr>\n",
       "      <th>Country/Region</th>\n",
       "      <th></th>\n",
       "      <th></th>\n",
       "      <th></th>\n",
       "      <th></th>\n",
       "      <th></th>\n",
       "      <th></th>\n",
       "      <th></th>\n",
       "      <th></th>\n",
       "      <th></th>\n",
       "      <th></th>\n",
       "      <th></th>\n",
       "      <th></th>\n",
       "      <th></th>\n",
       "      <th></th>\n",
       "      <th></th>\n",
       "      <th></th>\n",
       "      <th></th>\n",
       "      <th></th>\n",
       "      <th></th>\n",
       "      <th></th>\n",
       "      <th></th>\n",
       "    </tr>\n",
       "  </thead>\n",
       "  <tbody>\n",
       "    <tr>\n",
       "      <th>Afghanistan</th>\n",
       "      <td>0</td>\n",
       "      <td>0</td>\n",
       "      <td>0</td>\n",
       "      <td>0</td>\n",
       "      <td>0</td>\n",
       "      <td>0</td>\n",
       "      <td>0</td>\n",
       "      <td>0</td>\n",
       "      <td>0</td>\n",
       "      <td>0</td>\n",
       "      <td>...</td>\n",
       "      <td>62403</td>\n",
       "      <td>62718</td>\n",
       "      <td>63045</td>\n",
       "      <td>63355</td>\n",
       "      <td>63412</td>\n",
       "      <td>63484</td>\n",
       "      <td>63598</td>\n",
       "      <td>63819</td>\n",
       "      <td>64122</td>\n",
       "      <td>64575</td>\n",
       "    </tr>\n",
       "    <tr>\n",
       "      <th>Albania</th>\n",
       "      <td>0</td>\n",
       "      <td>0</td>\n",
       "      <td>0</td>\n",
       "      <td>0</td>\n",
       "      <td>0</td>\n",
       "      <td>0</td>\n",
       "      <td>0</td>\n",
       "      <td>0</td>\n",
       "      <td>0</td>\n",
       "      <td>0</td>\n",
       "      <td>...</td>\n",
       "      <td>131803</td>\n",
       "      <td>131845</td>\n",
       "      <td>131890</td>\n",
       "      <td>131939</td>\n",
       "      <td>131978</td>\n",
       "      <td>132015</td>\n",
       "      <td>132032</td>\n",
       "      <td>132071</td>\n",
       "      <td>132095</td>\n",
       "      <td>132118</td>\n",
       "    </tr>\n",
       "    <tr>\n",
       "      <th>Algeria</th>\n",
       "      <td>0</td>\n",
       "      <td>0</td>\n",
       "      <td>0</td>\n",
       "      <td>0</td>\n",
       "      <td>0</td>\n",
       "      <td>0</td>\n",
       "      <td>0</td>\n",
       "      <td>0</td>\n",
       "      <td>0</td>\n",
       "      <td>0</td>\n",
       "      <td>...</td>\n",
       "      <td>124483</td>\n",
       "      <td>124682</td>\n",
       "      <td>124889</td>\n",
       "      <td>125059</td>\n",
       "      <td>125194</td>\n",
       "      <td>125311</td>\n",
       "      <td>125485</td>\n",
       "      <td>125693</td>\n",
       "      <td>125896</td>\n",
       "      <td>126156</td>\n",
       "    </tr>\n",
       "    <tr>\n",
       "      <th>Andorra</th>\n",
       "      <td>0</td>\n",
       "      <td>0</td>\n",
       "      <td>0</td>\n",
       "      <td>0</td>\n",
       "      <td>0</td>\n",
       "      <td>0</td>\n",
       "      <td>0</td>\n",
       "      <td>0</td>\n",
       "      <td>0</td>\n",
       "      <td>0</td>\n",
       "      <td>...</td>\n",
       "      <td>13447</td>\n",
       "      <td>13470</td>\n",
       "      <td>13470</td>\n",
       "      <td>13510</td>\n",
       "      <td>13510</td>\n",
       "      <td>13510</td>\n",
       "      <td>13555</td>\n",
       "      <td>13569</td>\n",
       "      <td>13569</td>\n",
       "      <td>13569</td>\n",
       "    </tr>\n",
       "    <tr>\n",
       "      <th>Angola</th>\n",
       "      <td>0</td>\n",
       "      <td>0</td>\n",
       "      <td>0</td>\n",
       "      <td>0</td>\n",
       "      <td>0</td>\n",
       "      <td>0</td>\n",
       "      <td>0</td>\n",
       "      <td>0</td>\n",
       "      <td>0</td>\n",
       "      <td>0</td>\n",
       "      <td>...</td>\n",
       "      <td>29146</td>\n",
       "      <td>29405</td>\n",
       "      <td>29695</td>\n",
       "      <td>30030</td>\n",
       "      <td>30354</td>\n",
       "      <td>30637</td>\n",
       "      <td>30787</td>\n",
       "      <td>31045</td>\n",
       "      <td>31438</td>\n",
       "      <td>31661</td>\n",
       "    </tr>\n",
       "  </tbody>\n",
       "</table>\n",
       "<p>5 rows × 485 columns</p>\n",
       "</div>"
      ],
      "text/plain": [
       "                1/22/20  1/23/20  1/24/20  1/25/20  1/26/20  1/27/20  1/28/20  \\\n",
       "Country/Region                                                                  \n",
       "Afghanistan           0        0        0        0        0        0        0   \n",
       "Albania               0        0        0        0        0        0        0   \n",
       "Algeria               0        0        0        0        0        0        0   \n",
       "Andorra               0        0        0        0        0        0        0   \n",
       "Angola                0        0        0        0        0        0        0   \n",
       "\n",
       "                1/29/20  1/30/20  1/31/20  ...  5/11/21  5/12/21  5/13/21  \\\n",
       "Country/Region                             ...                              \n",
       "Afghanistan           0        0        0  ...    62403    62718    63045   \n",
       "Albania               0        0        0  ...   131803   131845   131890   \n",
       "Algeria               0        0        0  ...   124483   124682   124889   \n",
       "Andorra               0        0        0  ...    13447    13470    13470   \n",
       "Angola                0        0        0  ...    29146    29405    29695   \n",
       "\n",
       "                5/14/21  5/15/21  5/16/21  5/17/21  5/18/21  5/19/21  5/20/21  \n",
       "Country/Region                                                                 \n",
       "Afghanistan       63355    63412    63484    63598    63819    64122    64575  \n",
       "Albania          131939   131978   132015   132032   132071   132095   132118  \n",
       "Algeria          125059   125194   125311   125485   125693   125896   126156  \n",
       "Andorra           13510    13510    13510    13555    13569    13569    13569  \n",
       "Angola            30030    30354    30637    30787    31045    31438    31661  \n",
       "\n",
       "[5 rows x 485 columns]"
      ]
     },
     "execution_count": 9,
     "metadata": {},
     "output_type": "execute_result"
    }
   ],
   "source": [
    "corona_dataset_aggregated.head()"
   ]
  },
  {
   "cell_type": "code",
   "execution_count": 10,
   "id": "07c24e58",
   "metadata": {},
   "outputs": [
    {
     "data": {
      "text/plain": [
       "<matplotlib.legend.Legend at 0x7efd3d921630>"
      ]
     },
     "execution_count": 10,
     "metadata": {},
     "output_type": "execute_result"
    },
    {
     "data": {
      "image/png": "[encoded data removed]",
      "text/plain": [
       "<Figure size 432x288 with 1 Axes>"
      ]
     },
     "metadata": {
      "needs_background": "light"
     },
     "output_type": "display_data"
    }
   ],
   "source": [
    "corona_dataset_aggregated.loc[\"China\"].plot()\n",
    "corona_dataset_aggregated.loc[\"Italy\"].plot()\n",
    "corona_dataset_aggregated.loc[\"Germany\"].plot()\n",
    "corona_dataset_aggregated.loc[\"India\"].plot()\n",
    "corona_dataset_aggregated.loc[\"US\"].plot()\n",
    "corona_dataset_aggregated.loc[\"Taiwan*\"].plot()\n",
    "plt.legend()"
   ]
  },
  {
   "cell_type": "code",
   "execution_count": 11,
   "id": "2a4a0f91",
   "metadata": {},
   "outputs": [
    {
     "data": {
      "text/plain": [
       "<AxesSubplot:>"
      ]
     },
     "execution_count": 11,
     "metadata": {},
     "output_type": "execute_result"
    },
    {
     "data": {
      "image/png": "[encoded data removed]",
      "text/plain": [
       "<Figure size 432x288 with 1 Axes>"
      ]
     },
     "metadata": {
      "needs_background": "light"
     },
     "output_type": "display_data"
    }
   ],
   "source": [
    "corona_dataset_aggregated.loc[\"China\"][:3].plot()"
   ]
  },
  {
   "cell_type": "code",
   "execution_count": 12,
   "id": "f91e41bd",
   "metadata": {},
   "outputs": [
    {
     "data": {
      "text/plain": [
       "<AxesSubplot:>"
      ]
     },
     "execution_count": 12,
     "metadata": {},
     "output_type": "execute_result"
    },
    {
     "data": {
      "image/png": "[encoded data removed]",
      "text/plain": [
       "<Figure size 432x288 with 1 Axes>"
      ]
     },
     "metadata": {
      "needs_background": "light"
     },
     "output_type": "display_data"
    }
   ],
   "source": [
    "corona_dataset_aggregated.loc[\"China\"].diff().plot()"
   ]
  },
  {
   "cell_type": "code",
   "execution_count": 13,
   "id": "1d794e03",
   "metadata": {},
   "outputs": [
    {
     "data": {
      "text/plain": [
       "15136.0"
      ]
     },
     "execution_count": 13,
     "metadata": {},
     "output_type": "execute_result"
    }
   ],
   "source": [
    "corona_dataset_aggregated.loc[\"China\"].diff().max()"
   ]
  },
  {
   "cell_type": "code",
   "execution_count": 14,
   "id": "82688bca",
   "metadata": {},
   "outputs": [
    {
     "data": {
      "text/plain": [
       "49044.0"
      ]
     },
     "execution_count": 14,
     "metadata": {},
     "output_type": "execute_result"
    }
   ],
   "source": [
    "corona_dataset_aggregated.loc[\"Germany\"].diff().max()"
   ]
  },
  {
   "cell_type": "code",
   "execution_count": 15,
   "id": "8228b652",
   "metadata": {},
   "outputs": [
    {
     "data": {
      "text/plain": [
       "414188.0"
      ]
     },
     "execution_count": 15,
     "metadata": {},
     "output_type": "execute_result"
    }
   ],
   "source": [
    "corona_dataset_aggregated.loc[\"India\"].diff().max()"
   ]
  },
  {
   "cell_type": "code",
   "execution_count": 16,
   "id": "ca4c7e42",
   "metadata": {
    "scrolled": true
   },
   "outputs": [
    {
     "data": {
      "text/plain": [
       "1485.0"
      ]
     },
     "execution_count": 16,
     "metadata": {},
     "output_type": "execute_result"
    }
   ],
   "source": [
    "corona_dataset_aggregated.loc[\"Afghanistan\"].diff().max()"
   ]
  },
  {
   "cell_type": "code",
   "execution_count": 17,
   "id": "dcda96b3",
   "metadata": {},
   "outputs": [
    {
     "data": {
      "text/plain": [
       "1485.0"
      ]
     },
     "execution_count": 17,
     "metadata": {},
     "output_type": "execute_result"
    }
   ],
   "source": [
    "corona_dataset_aggregated.loc[\"Afghanistan\"].diff().max()"
   ]
  },
  {
   "cell_type": "code",
   "execution_count": 18,
   "id": "36822518",
   "metadata": {},
   "outputs": [],
   "source": [
    "countries = list(corona_dataset_aggregated.index)\n",
    "max_infection_rates = []\n",
    "for c in countries:\n",
    "    max_infection_rates.append(corona_dataset_aggregated.loc[c].diff().max())\n",
    "corona_dataset_aggregated[\"max_infection_rate\"] = max_infection_rates"
   ]
  },
  {
   "cell_type": "code",
   "execution_count": 19,
   "id": "ccff1540",
   "metadata": {},
   "outputs": [
    {
     "data": {
      "text/html": [
       "<div>\n",
       "<style scoped>\n",
       "    .dataframe tbody tr th:only-of-type {\n",
       "        vertical-align: middle;\n",
       "    }\n",
       "\n",
       "    .dataframe tbody tr th {\n",
       "        vertical-align: top;\n",
       "    }\n",
       "\n",
       "    .dataframe thead th {\n",
       "        text-align: right;\n",
       "    }\n",
       "</style>\n",
       "<table border=\"1\" class=\"dataframe\">\n",
       "  <thead>\n",
       "    <tr style=\"text-align: right;\">\n",
       "      <th></th>\n",
       "      <th>1/22/20</th>\n",
       "      <th>1/23/20</th>\n",
       "      <th>1/24/20</th>\n",
       "      <th>1/25/20</th>\n",
       "      <th>1/26/20</th>\n",
       "      <th>1/27/20</th>\n",
       "      <th>1/28/20</th>\n",
       "      <th>1/29/20</th>\n",
       "      <th>1/30/20</th>\n",
       "      <th>1/31/20</th>\n",
       "      <th>...</th>\n",
       "      <th>5/12/21</th>\n",
       "      <th>5/13/21</th>\n",
       "      <th>5/14/21</th>\n",
       "      <th>5/15/21</th>\n",
       "      <th>5/16/21</th>\n",
       "      <th>5/17/21</th>\n",
       "      <th>5/18/21</th>\n",
       "      <th>5/19/21</th>\n",
       "      <th>5/20/21</th>\n",
       "      <th>max_infection_rate</th>\n",
       "    </tr>\n",
       "    <tr>\n",
       "      <th>Country/Region</th>\n",
       "      <th></th>\n",
       "      <th></th>\n",
       "      <th></th>\n",
       "      <th></th>\n",
       "      <th></th>\n",
       "      <th></th>\n",
       "      <th></th>\n",
       "      <th></th>\n",
       "      <th></th>\n",
       "      <th></th>\n",
       "      <th></th>\n",
       "      <th></th>\n",
       "      <th></th>\n",
       "      <th></th>\n",
       "      <th></th>\n",
       "      <th></th>\n",
       "      <th></th>\n",
       "      <th></th>\n",
       "      <th></th>\n",
       "      <th></th>\n",
       "      <th></th>\n",
       "    </tr>\n",
       "  </thead>\n",
       "  <tbody>\n",
       "    <tr>\n",
       "      <th>Afghanistan</th>\n",
       "      <td>0</td>\n",
       "      <td>0</td>\n",
       "      <td>0</td>\n",
       "      <td>0</td>\n",
       "      <td>0</td>\n",
       "      <td>0</td>\n",
       "      <td>0</td>\n",
       "      <td>0</td>\n",
       "      <td>0</td>\n",
       "      <td>0</td>\n",
       "      <td>...</td>\n",
       "      <td>62718</td>\n",
       "      <td>63045</td>\n",
       "      <td>63355</td>\n",
       "      <td>63412</td>\n",
       "      <td>63484</td>\n",
       "      <td>63598</td>\n",
       "      <td>63819</td>\n",
       "      <td>64122</td>\n",
       "      <td>64575</td>\n",
       "      <td>1485.0</td>\n",
       "    </tr>\n",
       "    <tr>\n",
       "      <th>Albania</th>\n",
       "      <td>0</td>\n",
       "      <td>0</td>\n",
       "      <td>0</td>\n",
       "      <td>0</td>\n",
       "      <td>0</td>\n",
       "      <td>0</td>\n",
       "      <td>0</td>\n",
       "      <td>0</td>\n",
       "      <td>0</td>\n",
       "      <td>0</td>\n",
       "      <td>...</td>\n",
       "      <td>131845</td>\n",
       "      <td>131890</td>\n",
       "      <td>131939</td>\n",
       "      <td>131978</td>\n",
       "      <td>132015</td>\n",
       "      <td>132032</td>\n",
       "      <td>132071</td>\n",
       "      <td>132095</td>\n",
       "      <td>132118</td>\n",
       "      <td>1239.0</td>\n",
       "    </tr>\n",
       "    <tr>\n",
       "      <th>Algeria</th>\n",
       "      <td>0</td>\n",
       "      <td>0</td>\n",
       "      <td>0</td>\n",
       "      <td>0</td>\n",
       "      <td>0</td>\n",
       "      <td>0</td>\n",
       "      <td>0</td>\n",
       "      <td>0</td>\n",
       "      <td>0</td>\n",
       "      <td>0</td>\n",
       "      <td>...</td>\n",
       "      <td>124682</td>\n",
       "      <td>124889</td>\n",
       "      <td>125059</td>\n",
       "      <td>125194</td>\n",
       "      <td>125311</td>\n",
       "      <td>125485</td>\n",
       "      <td>125693</td>\n",
       "      <td>125896</td>\n",
       "      <td>126156</td>\n",
       "      <td>1133.0</td>\n",
       "    </tr>\n",
       "    <tr>\n",
       "      <th>Andorra</th>\n",
       "      <td>0</td>\n",
       "      <td>0</td>\n",
       "      <td>0</td>\n",
       "      <td>0</td>\n",
       "      <td>0</td>\n",
       "      <td>0</td>\n",
       "      <td>0</td>\n",
       "      <td>0</td>\n",
       "      <td>0</td>\n",
       "      <td>0</td>\n",
       "      <td>...</td>\n",
       "      <td>13470</td>\n",
       "      <td>13470</td>\n",
       "      <td>13510</td>\n",
       "      <td>13510</td>\n",
       "      <td>13510</td>\n",
       "      <td>13555</td>\n",
       "      <td>13569</td>\n",
       "      <td>13569</td>\n",
       "      <td>13569</td>\n",
       "      <td>299.0</td>\n",
       "    </tr>\n",
       "    <tr>\n",
       "      <th>Angola</th>\n",
       "      <td>0</td>\n",
       "      <td>0</td>\n",
       "      <td>0</td>\n",
       "      <td>0</td>\n",
       "      <td>0</td>\n",
       "      <td>0</td>\n",
       "      <td>0</td>\n",
       "      <td>0</td>\n",
       "      <td>0</td>\n",
       "      <td>0</td>\n",
       "      <td>...</td>\n",
       "      <td>29405</td>\n",
       "      <td>29695</td>\n",
       "      <td>30030</td>\n",
       "      <td>30354</td>\n",
       "      <td>30637</td>\n",
       "      <td>30787</td>\n",
       "      <td>31045</td>\n",
       "      <td>31438</td>\n",
       "      <td>31661</td>\n",
       "      <td>393.0</td>\n",
       "    </tr>\n",
       "  </tbody>\n",
       "</table>\n",
       "<p>5 rows × 486 columns</p>\n",
       "</div>"
      ],
      "text/plain": [
       "                1/22/20  1/23/20  1/24/20  1/25/20  1/26/20  1/27/20  1/28/20  \\\n",
       "Country/Region                                                                  \n",
       "Afghanistan           0        0        0        0        0        0        0   \n",
       "Albania               0        0        0        0        0        0        0   \n",
       "Algeria               0        0        0        0        0        0        0   \n",
       "Andorra               0        0        0        0        0        0        0   \n",
       "Angola                0        0        0        0        0        0        0   \n",
       "\n",
       "                1/29/20  1/30/20  1/31/20  ...  5/12/21  5/13/21  5/14/21  \\\n",
       "Country/Region                             ...                              \n",
       "Afghanistan           0        0        0  ...    62718    63045    63355   \n",
       "Albania               0        0        0  ...   131845   131890   131939   \n",
       "Algeria               0        0        0  ...   124682   124889   125059   \n",
       "Andorra               0        0        0  ...    13470    13470    13510   \n",
       "Angola                0        0        0  ...    29405    29695    30030   \n",
       "\n",
       "                5/15/21  5/16/21  5/17/21  5/18/21  5/19/21  5/20/21  \\\n",
       "Country/Region                                                         \n",
       "Afghanistan       63412    63484    63598    63819    64122    64575   \n",
       "Albania          131978   132015   132032   132071   132095   132118   \n",
       "Algeria          125194   125311   125485   125693   125896   126156   \n",
       "Andorra           13510    13510    13555    13569    13569    13569   \n",
       "Angola            30354    30637    30787    31045    31438    31661   \n",
       "\n",
       "                max_infection_rate  \n",
       "Country/Region                      \n",
       "Afghanistan                 1485.0  \n",
       "Albania                     1239.0  \n",
       "Algeria                     1133.0  \n",
       "Andorra                      299.0  \n",
       "Angola                       393.0  \n",
       "\n",
       "[5 rows x 486 columns]"
      ]
     },
     "execution_count": 19,
     "metadata": {},
     "output_type": "execute_result"
    }
   ],
   "source": [
    "corona_dataset_aggregated.head()"
   ]
  },
  {
   "cell_type": "code",
   "execution_count": 20,
   "id": "01ca172b",
   "metadata": {},
   "outputs": [],
   "source": [
    "corona_data = pd.DataFrame(corona_dataset_aggregated[\"max_infection_rate\"])"
   ]
  },
  {
   "cell_type": "code",
   "execution_count": 21,
   "id": "e135ea1d",
   "metadata": {},
   "outputs": [
    {
     "data": {
      "text/html": [
       "<div>\n",
       "<style scoped>\n",
       "    .dataframe tbody tr th:only-of-type {\n",
       "        vertical-align: middle;\n",
       "    }\n",
       "\n",
       "    .dataframe tbody tr th {\n",
       "        vertical-align: top;\n",
       "    }\n",
       "\n",
       "    .dataframe thead th {\n",
       "        text-align: right;\n",
       "    }\n",
       "</style>\n",
       "<table border=\"1\" class=\"dataframe\">\n",
       "  <thead>\n",
       "    <tr style=\"text-align: right;\">\n",
       "      <th></th>\n",
       "      <th>max_infection_rate</th>\n",
       "    </tr>\n",
       "    <tr>\n",
       "      <th>Country/Region</th>\n",
       "      <th></th>\n",
       "    </tr>\n",
       "  </thead>\n",
       "  <tbody>\n",
       "    <tr>\n",
       "      <th>Afghanistan</th>\n",
       "      <td>1485.0</td>\n",
       "    </tr>\n",
       "    <tr>\n",
       "      <th>Albania</th>\n",
       "      <td>1239.0</td>\n",
       "    </tr>\n",
       "    <tr>\n",
       "      <th>Algeria</th>\n",
       "      <td>1133.0</td>\n",
       "    </tr>\n",
       "    <tr>\n",
       "      <th>Andorra</th>\n",
       "      <td>299.0</td>\n",
       "    </tr>\n",
       "    <tr>\n",
       "      <th>Angola</th>\n",
       "      <td>393.0</td>\n",
       "    </tr>\n",
       "  </tbody>\n",
       "</table>\n",
       "</div>"
      ],
      "text/plain": [
       "                max_infection_rate\n",
       "Country/Region                    \n",
       "Afghanistan                 1485.0\n",
       "Albania                     1239.0\n",
       "Algeria                     1133.0\n",
       "Andorra                      299.0\n",
       "Angola                       393.0"
      ]
     },
     "execution_count": 21,
     "metadata": {},
     "output_type": "execute_result"
    }
   ],
   "source": [
    "corona_data.head()"
   ]
  },
  {
   "cell_type": "code",
   "execution_count": 22,
   "id": "ccbe707f",
   "metadata": {},
   "outputs": [],
   "source": [
    "read_file = pd.read_excel(\"Dataset/DataForFigure2.1WHR2021C2.xls\")\n",
    "read_file.to_csv(\"Dataset/DataForFigure2.1WHR2021C2.csv\",index = None, header = True)"
   ]
  },
  {
   "cell_type": "code",
   "execution_count": 23,
   "id": "03a0daed",
   "metadata": {},
   "outputs": [
    {
     "data": {
      "text/html": [
       "<div>\n",
       "<style scoped>\n",
       "    .dataframe tbody tr th:only-of-type {\n",
       "        vertical-align: middle;\n",
       "    }\n",
       "\n",
       "    .dataframe tbody tr th {\n",
       "        vertical-align: top;\n",
       "    }\n",
       "\n",
       "    .dataframe thead th {\n",
       "        text-align: right;\n",
       "    }\n",
       "</style>\n",
       "<table border=\"1\" class=\"dataframe\">\n",
       "  <thead>\n",
       "    <tr style=\"text-align: right;\">\n",
       "      <th></th>\n",
       "      <th>Country name</th>\n",
       "      <th>Log GDP per capita</th>\n",
       "      <th>Social support</th>\n",
       "      <th>Healthy life expectancy</th>\n",
       "      <th>Freedom to make life choices</th>\n",
       "    </tr>\n",
       "  </thead>\n",
       "  <tbody>\n",
       "    <tr>\n",
       "      <th>0</th>\n",
       "      <td>Finland</td>\n",
       "      <td>1.446356</td>\n",
       "      <td>1.106192</td>\n",
       "      <td>0.740824</td>\n",
       "      <td>0.690577</td>\n",
       "    </tr>\n",
       "    <tr>\n",
       "      <th>1</th>\n",
       "      <td>Denmark</td>\n",
       "      <td>1.501548</td>\n",
       "      <td>1.108008</td>\n",
       "      <td>0.762862</td>\n",
       "      <td>0.686160</td>\n",
       "    </tr>\n",
       "    <tr>\n",
       "      <th>2</th>\n",
       "      <td>Switzerland</td>\n",
       "      <td>1.565899</td>\n",
       "      <td>1.079469</td>\n",
       "      <td>0.816415</td>\n",
       "      <td>0.653488</td>\n",
       "    </tr>\n",
       "    <tr>\n",
       "      <th>3</th>\n",
       "      <td>Iceland</td>\n",
       "      <td>1.482190</td>\n",
       "      <td>1.172279</td>\n",
       "      <td>0.772319</td>\n",
       "      <td>0.697701</td>\n",
       "    </tr>\n",
       "    <tr>\n",
       "      <th>4</th>\n",
       "      <td>Netherlands</td>\n",
       "      <td>1.501072</td>\n",
       "      <td>1.079151</td>\n",
       "      <td>0.753425</td>\n",
       "      <td>0.646585</td>\n",
       "    </tr>\n",
       "  </tbody>\n",
       "</table>\n",
       "</div>"
      ],
      "text/plain": [
       "  Country name  Log GDP per capita  Social support  Healthy life expectancy  \\\n",
       "0      Finland            1.446356        1.106192                 0.740824   \n",
       "1      Denmark            1.501548        1.108008                 0.762862   \n",
       "2  Switzerland            1.565899        1.079469                 0.816415   \n",
       "3      Iceland            1.482190        1.172279                 0.772319   \n",
       "4  Netherlands            1.501072        1.079151                 0.753425   \n",
       "\n",
       "   Freedom to make life choices  \n",
       "0                      0.690577  \n",
       "1                      0.686160  \n",
       "2                      0.653488  \n",
       "3                      0.697701  \n",
       "4                      0.646585  "
      ]
     },
     "execution_count": 23,
     "metadata": {},
     "output_type": "execute_result"
    }
   ],
   "source": [
    "happiness_report_csv = pd.DataFrame(pd.read_csv(\"Dataset/DataForFigure2.1WHR2021C2.csv\"))\n",
    "happiness_report_csv.head()"
   ]
  },
  {
   "cell_type": "code",
   "execution_count": 24,
   "id": "4d46dd8c",
   "metadata": {},
   "outputs": [],
   "source": [
    "happiness_report_csv = happiness_report_csv.round(3)"
   ]
  },
  {
   "cell_type": "code",
   "execution_count": 25,
   "id": "ed820449",
   "metadata": {},
   "outputs": [
    {
     "data": {
      "text/html": [
       "<div>\n",
       "<style scoped>\n",
       "    .dataframe tbody tr th:only-of-type {\n",
       "        vertical-align: middle;\n",
       "    }\n",
       "\n",
       "    .dataframe tbody tr th {\n",
       "        vertical-align: top;\n",
       "    }\n",
       "\n",
       "    .dataframe thead th {\n",
       "        text-align: right;\n",
       "    }\n",
       "</style>\n",
       "<table border=\"1\" class=\"dataframe\">\n",
       "  <thead>\n",
       "    <tr style=\"text-align: right;\">\n",
       "      <th></th>\n",
       "      <th>Country name</th>\n",
       "      <th>Log GDP per capita</th>\n",
       "      <th>Social support</th>\n",
       "      <th>Healthy life expectancy</th>\n",
       "      <th>Freedom to make life choices</th>\n",
       "    </tr>\n",
       "  </thead>\n",
       "  <tbody>\n",
       "    <tr>\n",
       "      <th>0</th>\n",
       "      <td>Finland</td>\n",
       "      <td>1.446</td>\n",
       "      <td>1.106</td>\n",
       "      <td>0.741</td>\n",
       "      <td>0.691</td>\n",
       "    </tr>\n",
       "    <tr>\n",
       "      <th>1</th>\n",
       "      <td>Denmark</td>\n",
       "      <td>1.502</td>\n",
       "      <td>1.108</td>\n",
       "      <td>0.763</td>\n",
       "      <td>0.686</td>\n",
       "    </tr>\n",
       "    <tr>\n",
       "      <th>2</th>\n",
       "      <td>Switzerland</td>\n",
       "      <td>1.566</td>\n",
       "      <td>1.079</td>\n",
       "      <td>0.816</td>\n",
       "      <td>0.653</td>\n",
       "    </tr>\n",
       "    <tr>\n",
       "      <th>3</th>\n",
       "      <td>Iceland</td>\n",
       "      <td>1.482</td>\n",
       "      <td>1.172</td>\n",
       "      <td>0.772</td>\n",
       "      <td>0.698</td>\n",
       "    </tr>\n",
       "    <tr>\n",
       "      <th>4</th>\n",
       "      <td>Netherlands</td>\n",
       "      <td>1.501</td>\n",
       "      <td>1.079</td>\n",
       "      <td>0.753</td>\n",
       "      <td>0.647</td>\n",
       "    </tr>\n",
       "  </tbody>\n",
       "</table>\n",
       "</div>"
      ],
      "text/plain": [
       "  Country name  Log GDP per capita  Social support  Healthy life expectancy  \\\n",
       "0      Finland               1.446           1.106                    0.741   \n",
       "1      Denmark               1.502           1.108                    0.763   \n",
       "2  Switzerland               1.566           1.079                    0.816   \n",
       "3      Iceland               1.482           1.172                    0.772   \n",
       "4  Netherlands               1.501           1.079                    0.753   \n",
       "\n",
       "   Freedom to make life choices  \n",
       "0                         0.691  \n",
       "1                         0.686  \n",
       "2                         0.653  \n",
       "3                         0.698  \n",
       "4                         0.647  "
      ]
     },
     "execution_count": 25,
     "metadata": {},
     "output_type": "execute_result"
    }
   ],
   "source": [
    "happiness_report_csv.head()"
   ]
  },
  {
   "cell_type": "code",
   "execution_count": 26,
   "id": "3539f591",
   "metadata": {},
   "outputs": [],
   "source": [
    "read_file = pd.read_csv(\"Dataset/2019 (1).csv\")\n",
    "read_file.to_excel(\"Dataset/2019 (1).xlsx\",index = None, header = True)"
   ]
  },
  {
   "cell_type": "code",
   "execution_count": 27,
   "id": "d25cf934",
   "metadata": {},
   "outputs": [],
   "source": [
    "happiness_report_csv.set_index(\"Country name\", inplace = True)"
   ]
  },
  {
   "cell_type": "code",
   "execution_count": 28,
   "id": "ecec1703",
   "metadata": {},
   "outputs": [
    {
     "data": {
      "text/html": [
       "<div>\n",
       "<style scoped>\n",
       "    .dataframe tbody tr th:only-of-type {\n",
       "        vertical-align: middle;\n",
       "    }\n",
       "\n",
       "    .dataframe tbody tr th {\n",
       "        vertical-align: top;\n",
       "    }\n",
       "\n",
       "    .dataframe thead th {\n",
       "        text-align: right;\n",
       "    }\n",
       "</style>\n",
       "<table border=\"1\" class=\"dataframe\">\n",
       "  <thead>\n",
       "    <tr style=\"text-align: right;\">\n",
       "      <th></th>\n",
       "      <th>Log GDP per capita</th>\n",
       "      <th>Social support</th>\n",
       "      <th>Healthy life expectancy</th>\n",
       "      <th>Freedom to make life choices</th>\n",
       "    </tr>\n",
       "    <tr>\n",
       "      <th>Country name</th>\n",
       "      <th></th>\n",
       "      <th></th>\n",
       "      <th></th>\n",
       "      <th></th>\n",
       "    </tr>\n",
       "  </thead>\n",
       "  <tbody>\n",
       "    <tr>\n",
       "      <th>Finland</th>\n",
       "      <td>1.446</td>\n",
       "      <td>1.106</td>\n",
       "      <td>0.741</td>\n",
       "      <td>0.691</td>\n",
       "    </tr>\n",
       "    <tr>\n",
       "      <th>Denmark</th>\n",
       "      <td>1.502</td>\n",
       "      <td>1.108</td>\n",
       "      <td>0.763</td>\n",
       "      <td>0.686</td>\n",
       "    </tr>\n",
       "    <tr>\n",
       "      <th>Switzerland</th>\n",
       "      <td>1.566</td>\n",
       "      <td>1.079</td>\n",
       "      <td>0.816</td>\n",
       "      <td>0.653</td>\n",
       "    </tr>\n",
       "    <tr>\n",
       "      <th>Iceland</th>\n",
       "      <td>1.482</td>\n",
       "      <td>1.172</td>\n",
       "      <td>0.772</td>\n",
       "      <td>0.698</td>\n",
       "    </tr>\n",
       "    <tr>\n",
       "      <th>Netherlands</th>\n",
       "      <td>1.501</td>\n",
       "      <td>1.079</td>\n",
       "      <td>0.753</td>\n",
       "      <td>0.647</td>\n",
       "    </tr>\n",
       "  </tbody>\n",
       "</table>\n",
       "</div>"
      ],
      "text/plain": [
       "              Log GDP per capita  Social support  Healthy life expectancy  \\\n",
       "Country name                                                                \n",
       "Finland                    1.446           1.106                    0.741   \n",
       "Denmark                    1.502           1.108                    0.763   \n",
       "Switzerland                1.566           1.079                    0.816   \n",
       "Iceland                    1.482           1.172                    0.772   \n",
       "Netherlands                1.501           1.079                    0.753   \n",
       "\n",
       "              Freedom to make life choices  \n",
       "Country name                                \n",
       "Finland                              0.691  \n",
       "Denmark                              0.686  \n",
       "Switzerland                          0.653  \n",
       "Iceland                              0.698  \n",
       "Netherlands                          0.647  "
      ]
     },
     "execution_count": 28,
     "metadata": {},
     "output_type": "execute_result"
    }
   ],
   "source": [
    "happiness_report_csv.head()"
   ]
  },
  {
   "cell_type": "code",
   "execution_count": 29,
   "id": "0441f846",
   "metadata": {},
   "outputs": [
    {
     "data": {
      "text/html": [
       "<div>\n",
       "<style scoped>\n",
       "    .dataframe tbody tr th:only-of-type {\n",
       "        vertical-align: middle;\n",
       "    }\n",
       "\n",
       "    .dataframe tbody tr th {\n",
       "        vertical-align: top;\n",
       "    }\n",
       "\n",
       "    .dataframe thead th {\n",
       "        text-align: right;\n",
       "    }\n",
       "</style>\n",
       "<table border=\"1\" class=\"dataframe\">\n",
       "  <thead>\n",
       "    <tr style=\"text-align: right;\">\n",
       "      <th></th>\n",
       "      <th>max_infection_rate</th>\n",
       "    </tr>\n",
       "    <tr>\n",
       "      <th>Country/Region</th>\n",
       "      <th></th>\n",
       "    </tr>\n",
       "  </thead>\n",
       "  <tbody>\n",
       "    <tr>\n",
       "      <th>Afghanistan</th>\n",
       "      <td>1485.0</td>\n",
       "    </tr>\n",
       "    <tr>\n",
       "      <th>Albania</th>\n",
       "      <td>1239.0</td>\n",
       "    </tr>\n",
       "    <tr>\n",
       "      <th>Algeria</th>\n",
       "      <td>1133.0</td>\n",
       "    </tr>\n",
       "    <tr>\n",
       "      <th>Andorra</th>\n",
       "      <td>299.0</td>\n",
       "    </tr>\n",
       "    <tr>\n",
       "      <th>Angola</th>\n",
       "      <td>393.0</td>\n",
       "    </tr>\n",
       "    <tr>\n",
       "      <th>...</th>\n",
       "      <td>...</td>\n",
       "    </tr>\n",
       "    <tr>\n",
       "      <th>Vietnam</th>\n",
       "      <td>296.0</td>\n",
       "    </tr>\n",
       "    <tr>\n",
       "      <th>West Bank and Gaza</th>\n",
       "      <td>2884.0</td>\n",
       "    </tr>\n",
       "    <tr>\n",
       "      <th>Yemen</th>\n",
       "      <td>174.0</td>\n",
       "    </tr>\n",
       "    <tr>\n",
       "      <th>Zambia</th>\n",
       "      <td>1796.0</td>\n",
       "    </tr>\n",
       "    <tr>\n",
       "      <th>Zimbabwe</th>\n",
       "      <td>1365.0</td>\n",
       "    </tr>\n",
       "  </tbody>\n",
       "</table>\n",
       "<p>192 rows × 1 columns</p>\n",
       "</div>"
      ],
      "text/plain": [
       "                    max_infection_rate\n",
       "Country/Region                        \n",
       "Afghanistan                     1485.0\n",
       "Albania                         1239.0\n",
       "Algeria                         1133.0\n",
       "Andorra                          299.0\n",
       "Angola                           393.0\n",
       "...                                ...\n",
       "Vietnam                          296.0\n",
       "West Bank and Gaza              2884.0\n",
       "Yemen                            174.0\n",
       "Zambia                          1796.0\n",
       "Zimbabwe                        1365.0\n",
       "\n",
       "[192 rows x 1 columns]"
      ]
     },
     "execution_count": 29,
     "metadata": {},
     "output_type": "execute_result"
    }
   ],
   "source": [
    "corona_data"
   ]
  },
  {
   "cell_type": "code",
   "execution_count": 30,
   "id": "ea5a9e7e",
   "metadata": {},
   "outputs": [
    {
     "data": {
      "text/plain": [
       "(192, 1)"
      ]
     },
     "execution_count": 30,
     "metadata": {},
     "output_type": "execute_result"
    }
   ],
   "source": [
    "corona_data.shape"
   ]
  },
  {
   "cell_type": "code",
   "execution_count": 31,
   "id": "9df6177b",
   "metadata": {},
   "outputs": [
    {
     "data": {
      "text/html": [
       "<div>\n",
       "<style scoped>\n",
       "    .dataframe tbody tr th:only-of-type {\n",
       "        vertical-align: middle;\n",
       "    }\n",
       "\n",
       "    .dataframe tbody tr th {\n",
       "        vertical-align: top;\n",
       "    }\n",
       "\n",
       "    .dataframe thead th {\n",
       "        text-align: right;\n",
       "    }\n",
       "</style>\n",
       "<table border=\"1\" class=\"dataframe\">\n",
       "  <thead>\n",
       "    <tr style=\"text-align: right;\">\n",
       "      <th></th>\n",
       "      <th>Log GDP per capita</th>\n",
       "      <th>Social support</th>\n",
       "      <th>Healthy life expectancy</th>\n",
       "      <th>Freedom to make life choices</th>\n",
       "    </tr>\n",
       "    <tr>\n",
       "      <th>Country name</th>\n",
       "      <th></th>\n",
       "      <th></th>\n",
       "      <th></th>\n",
       "      <th></th>\n",
       "    </tr>\n",
       "  </thead>\n",
       "  <tbody>\n",
       "    <tr>\n",
       "      <th>Finland</th>\n",
       "      <td>1.446</td>\n",
       "      <td>1.106</td>\n",
       "      <td>0.741</td>\n",
       "      <td>0.691</td>\n",
       "    </tr>\n",
       "    <tr>\n",
       "      <th>Denmark</th>\n",
       "      <td>1.502</td>\n",
       "      <td>1.108</td>\n",
       "      <td>0.763</td>\n",
       "      <td>0.686</td>\n",
       "    </tr>\n",
       "    <tr>\n",
       "      <th>Switzerland</th>\n",
       "      <td>1.566</td>\n",
       "      <td>1.079</td>\n",
       "      <td>0.816</td>\n",
       "      <td>0.653</td>\n",
       "    </tr>\n",
       "    <tr>\n",
       "      <th>Iceland</th>\n",
       "      <td>1.482</td>\n",
       "      <td>1.172</td>\n",
       "      <td>0.772</td>\n",
       "      <td>0.698</td>\n",
       "    </tr>\n",
       "    <tr>\n",
       "      <th>Netherlands</th>\n",
       "      <td>1.501</td>\n",
       "      <td>1.079</td>\n",
       "      <td>0.753</td>\n",
       "      <td>0.647</td>\n",
       "    </tr>\n",
       "  </tbody>\n",
       "</table>\n",
       "</div>"
      ],
      "text/plain": [
       "              Log GDP per capita  Social support  Healthy life expectancy  \\\n",
       "Country name                                                                \n",
       "Finland                    1.446           1.106                    0.741   \n",
       "Denmark                    1.502           1.108                    0.763   \n",
       "Switzerland                1.566           1.079                    0.816   \n",
       "Iceland                    1.482           1.172                    0.772   \n",
       "Netherlands                1.501           1.079                    0.753   \n",
       "\n",
       "              Freedom to make life choices  \n",
       "Country name                                \n",
       "Finland                              0.691  \n",
       "Denmark                              0.686  \n",
       "Switzerland                          0.653  \n",
       "Iceland                              0.698  \n",
       "Netherlands                          0.647  "
      ]
     },
     "execution_count": 31,
     "metadata": {},
     "output_type": "execute_result"
    }
   ],
   "source": [
    "happiness_report_csv.head()"
   ]
  },
  {
   "cell_type": "code",
   "execution_count": 32,
   "id": "6792a3bf",
   "metadata": {},
   "outputs": [
    {
     "data": {
      "text/plain": [
       "(149, 4)"
      ]
     },
     "execution_count": 32,
     "metadata": {},
     "output_type": "execute_result"
    }
   ],
   "source": [
    "happiness_report_csv.shape"
   ]
  },
  {
   "cell_type": "code",
   "execution_count": 33,
   "id": "f2f1d16d",
   "metadata": {},
   "outputs": [],
   "source": [
    "data = corona_data.join(happiness_report_csv,how = \"inner\")"
   ]
  },
  {
   "cell_type": "markdown",
   "id": "c3fa86f9",
   "metadata": {},
   "source": [
    "## ?"
   ]
  },
  {
   "cell_type": "code",
   "execution_count": 34,
   "id": "0496fbde",
   "metadata": {},
   "outputs": [
    {
     "name": "stdout",
     "output_type": "stream",
     "text": [
      "p-value:\t 0.22546443386457157\n",
      "cor:\t\t 0.10384831364537561\n"
     ]
    }
   ],
   "source": [
    "corr = stats.pearsonr(data[\"max_infection_rate\"],data[\"Log GDP per capita\"])\n",
    "print(\"p-value:\\t\", corr[1])\n",
    "print(\"cor:\\t\\t\", corr[0])"
   ]
  },
  {
   "cell_type": "code",
   "execution_count": 35,
   "id": "cc3086d8",
   "metadata": {},
   "outputs": [
    {
     "data": {
      "text/html": [
       "<div>\n",
       "<style scoped>\n",
       "    .dataframe tbody tr th:only-of-type {\n",
       "        vertical-align: middle;\n",
       "    }\n",
       "\n",
       "    .dataframe tbody tr th {\n",
       "        vertical-align: top;\n",
       "    }\n",
       "\n",
       "    .dataframe thead th {\n",
       "        text-align: right;\n",
       "    }\n",
       "</style>\n",
       "<table border=\"1\" class=\"dataframe\">\n",
       "  <thead>\n",
       "    <tr style=\"text-align: right;\">\n",
       "      <th></th>\n",
       "      <th>max_infection_rate</th>\n",
       "      <th>Log GDP per capita</th>\n",
       "      <th>Social support</th>\n",
       "      <th>Healthy life expectancy</th>\n",
       "      <th>Freedom to make life choices</th>\n",
       "    </tr>\n",
       "  </thead>\n",
       "  <tbody>\n",
       "    <tr>\n",
       "      <th>Afghanistan</th>\n",
       "      <td>1485.0</td>\n",
       "      <td>0.370</td>\n",
       "      <td>0.000</td>\n",
       "      <td>0.126</td>\n",
       "      <td>0.000</td>\n",
       "    </tr>\n",
       "    <tr>\n",
       "      <th>Albania</th>\n",
       "      <td>1239.0</td>\n",
       "      <td>1.008</td>\n",
       "      <td>0.529</td>\n",
       "      <td>0.646</td>\n",
       "      <td>0.491</td>\n",
       "    </tr>\n",
       "    <tr>\n",
       "      <th>Algeria</th>\n",
       "      <td>1133.0</td>\n",
       "      <td>0.946</td>\n",
       "      <td>0.765</td>\n",
       "      <td>0.552</td>\n",
       "      <td>0.119</td>\n",
       "    </tr>\n",
       "    <tr>\n",
       "      <th>Argentina</th>\n",
       "      <td>39652.0</td>\n",
       "      <td>1.162</td>\n",
       "      <td>0.980</td>\n",
       "      <td>0.646</td>\n",
       "      <td>0.544</td>\n",
       "    </tr>\n",
       "    <tr>\n",
       "      <th>Armenia</th>\n",
       "      <td>2476.0</td>\n",
       "      <td>0.996</td>\n",
       "      <td>0.758</td>\n",
       "      <td>0.585</td>\n",
       "      <td>0.540</td>\n",
       "    </tr>\n",
       "  </tbody>\n",
       "</table>\n",
       "</div>"
      ],
      "text/plain": [
       "             max_infection_rate  Log GDP per capita  Social support  \\\n",
       "Afghanistan              1485.0               0.370           0.000   \n",
       "Albania                  1239.0               1.008           0.529   \n",
       "Algeria                  1133.0               0.946           0.765   \n",
       "Argentina               39652.0               1.162           0.980   \n",
       "Armenia                  2476.0               0.996           0.758   \n",
       "\n",
       "             Healthy life expectancy  Freedom to make life choices  \n",
       "Afghanistan                    0.126                         0.000  \n",
       "Albania                        0.646                         0.491  \n",
       "Algeria                        0.552                         0.119  \n",
       "Argentina                      0.646                         0.544  \n",
       "Armenia                        0.585                         0.540  "
      ]
     },
     "execution_count": 35,
     "metadata": {},
     "output_type": "execute_result"
    }
   ],
   "source": [
    "data.head()"
   ]
  },
  {
   "cell_type": "code",
   "execution_count": 36,
   "id": "9b31b0a0",
   "metadata": {},
   "outputs": [
    {
     "data": {
      "text/html": [
       "<div>\n",
       "<style scoped>\n",
       "    .dataframe tbody tr th:only-of-type {\n",
       "        vertical-align: middle;\n",
       "    }\n",
       "\n",
       "    .dataframe tbody tr th {\n",
       "        vertical-align: top;\n",
       "    }\n",
       "\n",
       "    .dataframe thead th {\n",
       "        text-align: right;\n",
       "    }\n",
       "</style>\n",
       "<table border=\"1\" class=\"dataframe\">\n",
       "  <thead>\n",
       "    <tr style=\"text-align: right;\">\n",
       "      <th></th>\n",
       "      <th>max_infection_rate</th>\n",
       "      <th>Log GDP per capita</th>\n",
       "      <th>Social support</th>\n",
       "      <th>Healthy life expectancy</th>\n",
       "      <th>Freedom to make life choices</th>\n",
       "    </tr>\n",
       "  </thead>\n",
       "  <tbody>\n",
       "    <tr>\n",
       "      <th>max_infection_rate</th>\n",
       "      <td>1.000000</td>\n",
       "      <td>0.103848</td>\n",
       "      <td>0.002500</td>\n",
       "      <td>0.075518</td>\n",
       "      <td>-0.091086</td>\n",
       "    </tr>\n",
       "    <tr>\n",
       "      <th>Log GDP per capita</th>\n",
       "      <td>0.103848</td>\n",
       "      <td>1.000000</td>\n",
       "      <td>0.798275</td>\n",
       "      <td>0.872102</td>\n",
       "      <td>0.456543</td>\n",
       "    </tr>\n",
       "    <tr>\n",
       "      <th>Social support</th>\n",
       "      <td>0.002500</td>\n",
       "      <td>0.798275</td>\n",
       "      <td>1.000000</td>\n",
       "      <td>0.748788</td>\n",
       "      <td>0.486441</td>\n",
       "    </tr>\n",
       "    <tr>\n",
       "      <th>Healthy life expectancy</th>\n",
       "      <td>0.075518</td>\n",
       "      <td>0.872102</td>\n",
       "      <td>0.748788</td>\n",
       "      <td>1.000000</td>\n",
       "      <td>0.493899</td>\n",
       "    </tr>\n",
       "    <tr>\n",
       "      <th>Freedom to make life choices</th>\n",
       "      <td>-0.091086</td>\n",
       "      <td>0.456543</td>\n",
       "      <td>0.486441</td>\n",
       "      <td>0.493899</td>\n",
       "      <td>1.000000</td>\n",
       "    </tr>\n",
       "  </tbody>\n",
       "</table>\n",
       "</div>"
      ],
      "text/plain": [
       "                              max_infection_rate  Log GDP per capita  \\\n",
       "max_infection_rate                      1.000000            0.103848   \n",
       "Log GDP per capita                      0.103848            1.000000   \n",
       "Social support                          0.002500            0.798275   \n",
       "Healthy life expectancy                 0.075518            0.872102   \n",
       "Freedom to make life choices           -0.091086            0.456543   \n",
       "\n",
       "                              Social support  Healthy life expectancy  \\\n",
       "max_infection_rate                  0.002500                 0.075518   \n",
       "Log GDP per capita                  0.798275                 0.872102   \n",
       "Social support                      1.000000                 0.748788   \n",
       "Healthy life expectancy             0.748788                 1.000000   \n",
       "Freedom to make life choices        0.486441                 0.493899   \n",
       "\n",
       "                              Freedom to make life choices  \n",
       "max_infection_rate                               -0.091086  \n",
       "Log GDP per capita                                0.456543  \n",
       "Social support                                    0.486441  \n",
       "Healthy life expectancy                           0.493899  \n",
       "Freedom to make life choices                      1.000000  "
      ]
     },
     "execution_count": 36,
     "metadata": {},
     "output_type": "execute_result"
    }
   ],
   "source": [
    "data.corr()"
   ]
  },
  {
   "cell_type": "code",
   "execution_count": 37,
   "id": "59b2dd1f",
   "metadata": {},
   "outputs": [
    {
     "data": {
      "text/plain": [
       "<AxesSubplot:xlabel='Log GDP per capita', ylabel='max_infection_rate'>"
      ]
     },
     "execution_count": 37,
     "metadata": {},
     "output_type": "execute_result"
    },
    {
     "data": {
      "image/png": "[encoded data removed]",
      "text/plain": [
       "<Figure size 432x288 with 1 Axes>"
      ]
     },
     "metadata": {
      "needs_background": "light"
     },
     "output_type": "display_data"
    }
   ],
   "source": [
    "x = data[\"Log GDP per capita\"]\n",
    "y = data[\"max_infection_rate\"]\n",
    "sns.scatterplot(x,np.log(y))"
   ]
  },
  {
   "cell_type": "code",
   "execution_count": 38,
   "id": "7e6ceee5",
   "metadata": {},
   "outputs": [
    {
     "data": {
      "text/plain": [
       "<AxesSubplot:xlabel='Log GDP per capita', ylabel='max_infection_rate'>"
      ]
     },
     "execution_count": 38,
     "metadata": {},
     "output_type": "execute_result"
    },
    {
     "data": {
      "image/png": "[encoded data removed]",
      "text/plain": [
       "<Figure size 432x288 with 1 Axes>"
      ]
     },
     "metadata": {
      "needs_background": "light"
     },
     "output_type": "display_data"
    }
   ],
   "source": [
    "sns.regplot(x,np.log(y))"
   ]
  },
  {
   "cell_type": "code",
   "execution_count": 39,
   "id": "95b28680",
   "metadata": {},
   "outputs": [],
   "source": [
    "corona_death_dataset_csv = pd.read_csv(\"Dataset/time_series_covid19_deaths_global.csv\")"
   ]
  },
  {
   "cell_type": "code",
   "execution_count": 40,
   "id": "aa4296f0",
   "metadata": {},
   "outputs": [
    {
     "data": {
      "text/html": [
       "<div>\n",
       "<style scoped>\n",
       "    .dataframe tbody tr th:only-of-type {\n",
       "        vertical-align: middle;\n",
       "    }\n",
       "\n",
       "    .dataframe tbody tr th {\n",
       "        vertical-align: top;\n",
       "    }\n",
       "\n",
       "    .dataframe thead th {\n",
       "        text-align: right;\n",
       "    }\n",
       "</style>\n",
       "<table border=\"1\" class=\"dataframe\">\n",
       "  <thead>\n",
       "    <tr style=\"text-align: right;\">\n",
       "      <th></th>\n",
       "      <th>Province/State</th>\n",
       "      <th>Country/Region</th>\n",
       "      <th>Lat</th>\n",
       "      <th>Long</th>\n",
       "      <th>1/22/20</th>\n",
       "      <th>1/23/20</th>\n",
       "      <th>1/24/20</th>\n",
       "      <th>1/25/20</th>\n",
       "      <th>1/26/20</th>\n",
       "      <th>1/27/20</th>\n",
       "      <th>...</th>\n",
       "      <th>5/16/21</th>\n",
       "      <th>5/17/21</th>\n",
       "      <th>5/18/21</th>\n",
       "      <th>5/19/21</th>\n",
       "      <th>5/20/21</th>\n",
       "      <th>5/21/21</th>\n",
       "      <th>5/22/21</th>\n",
       "      <th>5/23/21</th>\n",
       "      <th>5/24/21</th>\n",
       "      <th>5/25/21</th>\n",
       "    </tr>\n",
       "  </thead>\n",
       "  <tbody>\n",
       "    <tr>\n",
       "      <th>0</th>\n",
       "      <td>NaN</td>\n",
       "      <td>Afghanistan</td>\n",
       "      <td>33.93911</td>\n",
       "      <td>67.709953</td>\n",
       "      <td>0</td>\n",
       "      <td>0</td>\n",
       "      <td>0</td>\n",
       "      <td>0</td>\n",
       "      <td>0</td>\n",
       "      <td>0</td>\n",
       "      <td>...</td>\n",
       "      <td>2742</td>\n",
       "      <td>2745</td>\n",
       "      <td>2751</td>\n",
       "      <td>2762</td>\n",
       "      <td>2772</td>\n",
       "      <td>2782</td>\n",
       "      <td>2792</td>\n",
       "      <td>2802</td>\n",
       "      <td>2812</td>\n",
       "      <td>2836</td>\n",
       "    </tr>\n",
       "    <tr>\n",
       "      <th>1</th>\n",
       "      <td>NaN</td>\n",
       "      <td>Albania</td>\n",
       "      <td>41.15330</td>\n",
       "      <td>20.168300</td>\n",
       "      <td>0</td>\n",
       "      <td>0</td>\n",
       "      <td>0</td>\n",
       "      <td>0</td>\n",
       "      <td>0</td>\n",
       "      <td>0</td>\n",
       "      <td>...</td>\n",
       "      <td>2432</td>\n",
       "      <td>2435</td>\n",
       "      <td>2436</td>\n",
       "      <td>2438</td>\n",
       "      <td>2440</td>\n",
       "      <td>2441</td>\n",
       "      <td>2442</td>\n",
       "      <td>2444</td>\n",
       "      <td>2445</td>\n",
       "      <td>2447</td>\n",
       "    </tr>\n",
       "    <tr>\n",
       "      <th>2</th>\n",
       "      <td>NaN</td>\n",
       "      <td>Algeria</td>\n",
       "      <td>28.03390</td>\n",
       "      <td>1.659600</td>\n",
       "      <td>0</td>\n",
       "      <td>0</td>\n",
       "      <td>0</td>\n",
       "      <td>0</td>\n",
       "      <td>0</td>\n",
       "      <td>0</td>\n",
       "      <td>...</td>\n",
       "      <td>3374</td>\n",
       "      <td>3381</td>\n",
       "      <td>3388</td>\n",
       "      <td>3395</td>\n",
       "      <td>3401</td>\n",
       "      <td>3405</td>\n",
       "      <td>3411</td>\n",
       "      <td>3418</td>\n",
       "      <td>3426</td>\n",
       "      <td>3433</td>\n",
       "    </tr>\n",
       "    <tr>\n",
       "      <th>3</th>\n",
       "      <td>NaN</td>\n",
       "      <td>Andorra</td>\n",
       "      <td>42.50630</td>\n",
       "      <td>1.521800</td>\n",
       "      <td>0</td>\n",
       "      <td>0</td>\n",
       "      <td>0</td>\n",
       "      <td>0</td>\n",
       "      <td>0</td>\n",
       "      <td>0</td>\n",
       "      <td>...</td>\n",
       "      <td>127</td>\n",
       "      <td>127</td>\n",
       "      <td>127</td>\n",
       "      <td>127</td>\n",
       "      <td>127</td>\n",
       "      <td>127</td>\n",
       "      <td>127</td>\n",
       "      <td>127</td>\n",
       "      <td>127</td>\n",
       "      <td>127</td>\n",
       "    </tr>\n",
       "    <tr>\n",
       "      <th>4</th>\n",
       "      <td>NaN</td>\n",
       "      <td>Angola</td>\n",
       "      <td>-11.20270</td>\n",
       "      <td>17.873900</td>\n",
       "      <td>0</td>\n",
       "      <td>0</td>\n",
       "      <td>0</td>\n",
       "      <td>0</td>\n",
       "      <td>0</td>\n",
       "      <td>0</td>\n",
       "      <td>...</td>\n",
       "      <td>659</td>\n",
       "      <td>677</td>\n",
       "      <td>685</td>\n",
       "      <td>696</td>\n",
       "      <td>704</td>\n",
       "      <td>709</td>\n",
       "      <td>715</td>\n",
       "      <td>725</td>\n",
       "      <td>731</td>\n",
       "      <td>735</td>\n",
       "    </tr>\n",
       "  </tbody>\n",
       "</table>\n",
       "<p>5 rows × 494 columns</p>\n",
       "</div>"
      ],
      "text/plain": [
       "  Province/State Country/Region       Lat       Long  1/22/20  1/23/20  \\\n",
       "0            NaN    Afghanistan  33.93911  67.709953        0        0   \n",
       "1            NaN        Albania  41.15330  20.168300        0        0   \n",
       "2            NaN        Algeria  28.03390   1.659600        0        0   \n",
       "3            NaN        Andorra  42.50630   1.521800        0        0   \n",
       "4            NaN         Angola -11.20270  17.873900        0        0   \n",
       "\n",
       "   1/24/20  1/25/20  1/26/20  1/27/20  ...  5/16/21  5/17/21  5/18/21  \\\n",
       "0        0        0        0        0  ...     2742     2745     2751   \n",
       "1        0        0        0        0  ...     2432     2435     2436   \n",
       "2        0        0        0        0  ...     3374     3381     3388   \n",
       "3        0        0        0        0  ...      127      127      127   \n",
       "4        0        0        0        0  ...      659      677      685   \n",
       "\n",
       "   5/19/21  5/20/21  5/21/21  5/22/21  5/23/21  5/24/21  5/25/21  \n",
       "0     2762     2772     2782     2792     2802     2812     2836  \n",
       "1     2438     2440     2441     2442     2444     2445     2447  \n",
       "2     3395     3401     3405     3411     3418     3426     3433  \n",
       "3      127      127      127      127      127      127      127  \n",
       "4      696      704      709      715      725      731      735  \n",
       "\n",
       "[5 rows x 494 columns]"
      ]
     },
     "execution_count": 40,
     "metadata": {},
     "output_type": "execute_result"
    }
   ],
   "source": [
    "corona_death_dataset_csv.head()"
   ]
  },
  {
   "cell_type": "code",
   "execution_count": 41,
   "id": "1b0babb6",
   "metadata": {},
   "outputs": [
    {
     "data": {
      "text/plain": [
       "(275, 494)"
      ]
     },
     "execution_count": 41,
     "metadata": {},
     "output_type": "execute_result"
    }
   ],
   "source": [
    "corona_death_dataset_csv.shape"
   ]
  },
  {
   "cell_type": "code",
   "execution_count": 42,
   "id": "59bb090c",
   "metadata": {},
   "outputs": [],
   "source": [
    "df = corona_death_dataset_csv.drop([\"Lat\",\"Long\"], axis = 1, inplace = True)"
   ]
  },
  {
   "cell_type": "code",
   "execution_count": 43,
   "id": "2d530fda",
   "metadata": {},
   "outputs": [
    {
     "data": {
      "text/html": [
       "<div>\n",
       "<style scoped>\n",
       "    .dataframe tbody tr th:only-of-type {\n",
       "        vertical-align: middle;\n",
       "    }\n",
       "\n",
       "    .dataframe tbody tr th {\n",
       "        vertical-align: top;\n",
       "    }\n",
       "\n",
       "    .dataframe thead th {\n",
       "        text-align: right;\n",
       "    }\n",
       "</style>\n",
       "<table border=\"1\" class=\"dataframe\">\n",
       "  <thead>\n",
       "    <tr style=\"text-align: right;\">\n",
       "      <th></th>\n",
       "      <th>Province/State</th>\n",
       "      <th>Country/Region</th>\n",
       "      <th>1/22/20</th>\n",
       "      <th>1/23/20</th>\n",
       "      <th>1/24/20</th>\n",
       "      <th>1/25/20</th>\n",
       "      <th>1/26/20</th>\n",
       "      <th>1/27/20</th>\n",
       "      <th>1/28/20</th>\n",
       "      <th>1/29/20</th>\n",
       "      <th>...</th>\n",
       "      <th>5/16/21</th>\n",
       "      <th>5/17/21</th>\n",
       "      <th>5/18/21</th>\n",
       "      <th>5/19/21</th>\n",
       "      <th>5/20/21</th>\n",
       "      <th>5/21/21</th>\n",
       "      <th>5/22/21</th>\n",
       "      <th>5/23/21</th>\n",
       "      <th>5/24/21</th>\n",
       "      <th>5/25/21</th>\n",
       "    </tr>\n",
       "  </thead>\n",
       "  <tbody>\n",
       "    <tr>\n",
       "      <th>0</th>\n",
       "      <td>NaN</td>\n",
       "      <td>Afghanistan</td>\n",
       "      <td>0</td>\n",
       "      <td>0</td>\n",
       "      <td>0</td>\n",
       "      <td>0</td>\n",
       "      <td>0</td>\n",
       "      <td>0</td>\n",
       "      <td>0</td>\n",
       "      <td>0</td>\n",
       "      <td>...</td>\n",
       "      <td>2742</td>\n",
       "      <td>2745</td>\n",
       "      <td>2751</td>\n",
       "      <td>2762</td>\n",
       "      <td>2772</td>\n",
       "      <td>2782</td>\n",
       "      <td>2792</td>\n",
       "      <td>2802</td>\n",
       "      <td>2812</td>\n",
       "      <td>2836</td>\n",
       "    </tr>\n",
       "    <tr>\n",
       "      <th>1</th>\n",
       "      <td>NaN</td>\n",
       "      <td>Albania</td>\n",
       "      <td>0</td>\n",
       "      <td>0</td>\n",
       "      <td>0</td>\n",
       "      <td>0</td>\n",
       "      <td>0</td>\n",
       "      <td>0</td>\n",
       "      <td>0</td>\n",
       "      <td>0</td>\n",
       "      <td>...</td>\n",
       "      <td>2432</td>\n",
       "      <td>2435</td>\n",
       "      <td>2436</td>\n",
       "      <td>2438</td>\n",
       "      <td>2440</td>\n",
       "      <td>2441</td>\n",
       "      <td>2442</td>\n",
       "      <td>2444</td>\n",
       "      <td>2445</td>\n",
       "      <td>2447</td>\n",
       "    </tr>\n",
       "    <tr>\n",
       "      <th>2</th>\n",
       "      <td>NaN</td>\n",
       "      <td>Algeria</td>\n",
       "      <td>0</td>\n",
       "      <td>0</td>\n",
       "      <td>0</td>\n",
       "      <td>0</td>\n",
       "      <td>0</td>\n",
       "      <td>0</td>\n",
       "      <td>0</td>\n",
       "      <td>0</td>\n",
       "      <td>...</td>\n",
       "      <td>3374</td>\n",
       "      <td>3381</td>\n",
       "      <td>3388</td>\n",
       "      <td>3395</td>\n",
       "      <td>3401</td>\n",
       "      <td>3405</td>\n",
       "      <td>3411</td>\n",
       "      <td>3418</td>\n",
       "      <td>3426</td>\n",
       "      <td>3433</td>\n",
       "    </tr>\n",
       "    <tr>\n",
       "      <th>3</th>\n",
       "      <td>NaN</td>\n",
       "      <td>Andorra</td>\n",
       "      <td>0</td>\n",
       "      <td>0</td>\n",
       "      <td>0</td>\n",
       "      <td>0</td>\n",
       "      <td>0</td>\n",
       "      <td>0</td>\n",
       "      <td>0</td>\n",
       "      <td>0</td>\n",
       "      <td>...</td>\n",
       "      <td>127</td>\n",
       "      <td>127</td>\n",
       "      <td>127</td>\n",
       "      <td>127</td>\n",
       "      <td>127</td>\n",
       "      <td>127</td>\n",
       "      <td>127</td>\n",
       "      <td>127</td>\n",
       "      <td>127</td>\n",
       "      <td>127</td>\n",
       "    </tr>\n",
       "    <tr>\n",
       "      <th>4</th>\n",
       "      <td>NaN</td>\n",
       "      <td>Angola</td>\n",
       "      <td>0</td>\n",
       "      <td>0</td>\n",
       "      <td>0</td>\n",
       "      <td>0</td>\n",
       "      <td>0</td>\n",
       "      <td>0</td>\n",
       "      <td>0</td>\n",
       "      <td>0</td>\n",
       "      <td>...</td>\n",
       "      <td>659</td>\n",
       "      <td>677</td>\n",
       "      <td>685</td>\n",
       "      <td>696</td>\n",
       "      <td>704</td>\n",
       "      <td>709</td>\n",
       "      <td>715</td>\n",
       "      <td>725</td>\n",
       "      <td>731</td>\n",
       "      <td>735</td>\n",
       "    </tr>\n",
       "  </tbody>\n",
       "</table>\n",
       "<p>5 rows × 492 columns</p>\n",
       "</div>"
      ],
      "text/plain": [
       "  Province/State Country/Region  1/22/20  1/23/20  1/24/20  1/25/20  1/26/20  \\\n",
       "0            NaN    Afghanistan        0        0        0        0        0   \n",
       "1            NaN        Albania        0        0        0        0        0   \n",
       "2            NaN        Algeria        0        0        0        0        0   \n",
       "3            NaN        Andorra        0        0        0        0        0   \n",
       "4            NaN         Angola        0        0        0        0        0   \n",
       "\n",
       "   1/27/20  1/28/20  1/29/20  ...  5/16/21  5/17/21  5/18/21  5/19/21  \\\n",
       "0        0        0        0  ...     2742     2745     2751     2762   \n",
       "1        0        0        0  ...     2432     2435     2436     2438   \n",
       "2        0        0        0  ...     3374     3381     3388     3395   \n",
       "3        0        0        0  ...      127      127      127      127   \n",
       "4        0        0        0  ...      659      677      685      696   \n",
       "\n",
       "   5/20/21  5/21/21  5/22/21  5/23/21  5/24/21  5/25/21  \n",
       "0     2772     2782     2792     2802     2812     2836  \n",
       "1     2440     2441     2442     2444     2445     2447  \n",
       "2     3401     3405     3411     3418     3426     3433  \n",
       "3      127      127      127      127      127      127  \n",
       "4      704      709      715      725      731      735  \n",
       "\n",
       "[5 rows x 492 columns]"
      ]
     },
     "execution_count": 43,
     "metadata": {},
     "output_type": "execute_result"
    }
   ],
   "source": [
    "corona_death_dataset_csv.head()"
   ]
  },
  {
   "cell_type": "code",
   "execution_count": 44,
   "id": "6dba7148",
   "metadata": {},
   "outputs": [],
   "source": [
    "corona_death_dataset_aggregated = corona_death_dataset_csv.groupby(\"Country/Region\").sum()"
   ]
  },
  {
   "cell_type": "code",
   "execution_count": 45,
   "id": "142f5fc1",
   "metadata": {},
   "outputs": [],
   "source": [
    "corona_death = corona_death_dataset_aggregated"
   ]
  },
  {
   "cell_type": "code",
   "execution_count": 46,
   "id": "ef6be171",
   "metadata": {},
   "outputs": [
    {
     "data": {
      "text/html": [
       "<div>\n",
       "<style scoped>\n",
       "    .dataframe tbody tr th:only-of-type {\n",
       "        vertical-align: middle;\n",
       "    }\n",
       "\n",
       "    .dataframe tbody tr th {\n",
       "        vertical-align: top;\n",
       "    }\n",
       "\n",
       "    .dataframe thead th {\n",
       "        text-align: right;\n",
       "    }\n",
       "</style>\n",
       "<table border=\"1\" class=\"dataframe\">\n",
       "  <thead>\n",
       "    <tr style=\"text-align: right;\">\n",
       "      <th></th>\n",
       "      <th>1/22/20</th>\n",
       "      <th>1/23/20</th>\n",
       "      <th>1/24/20</th>\n",
       "      <th>1/25/20</th>\n",
       "      <th>1/26/20</th>\n",
       "      <th>1/27/20</th>\n",
       "      <th>1/28/20</th>\n",
       "      <th>1/29/20</th>\n",
       "      <th>1/30/20</th>\n",
       "      <th>1/31/20</th>\n",
       "      <th>...</th>\n",
       "      <th>5/16/21</th>\n",
       "      <th>5/17/21</th>\n",
       "      <th>5/18/21</th>\n",
       "      <th>5/19/21</th>\n",
       "      <th>5/20/21</th>\n",
       "      <th>5/21/21</th>\n",
       "      <th>5/22/21</th>\n",
       "      <th>5/23/21</th>\n",
       "      <th>5/24/21</th>\n",
       "      <th>5/25/21</th>\n",
       "    </tr>\n",
       "    <tr>\n",
       "      <th>Country/Region</th>\n",
       "      <th></th>\n",
       "      <th></th>\n",
       "      <th></th>\n",
       "      <th></th>\n",
       "      <th></th>\n",
       "      <th></th>\n",
       "      <th></th>\n",
       "      <th></th>\n",
       "      <th></th>\n",
       "      <th></th>\n",
       "      <th></th>\n",
       "      <th></th>\n",
       "      <th></th>\n",
       "      <th></th>\n",
       "      <th></th>\n",
       "      <th></th>\n",
       "      <th></th>\n",
       "      <th></th>\n",
       "      <th></th>\n",
       "      <th></th>\n",
       "      <th></th>\n",
       "    </tr>\n",
       "  </thead>\n",
       "  <tbody>\n",
       "    <tr>\n",
       "      <th>Afghanistan</th>\n",
       "      <td>0</td>\n",
       "      <td>0</td>\n",
       "      <td>0</td>\n",
       "      <td>0</td>\n",
       "      <td>0</td>\n",
       "      <td>0</td>\n",
       "      <td>0</td>\n",
       "      <td>0</td>\n",
       "      <td>0</td>\n",
       "      <td>0</td>\n",
       "      <td>...</td>\n",
       "      <td>2742</td>\n",
       "      <td>2745</td>\n",
       "      <td>2751</td>\n",
       "      <td>2762</td>\n",
       "      <td>2772</td>\n",
       "      <td>2782</td>\n",
       "      <td>2792</td>\n",
       "      <td>2802</td>\n",
       "      <td>2812</td>\n",
       "      <td>2836</td>\n",
       "    </tr>\n",
       "    <tr>\n",
       "      <th>Albania</th>\n",
       "      <td>0</td>\n",
       "      <td>0</td>\n",
       "      <td>0</td>\n",
       "      <td>0</td>\n",
       "      <td>0</td>\n",
       "      <td>0</td>\n",
       "      <td>0</td>\n",
       "      <td>0</td>\n",
       "      <td>0</td>\n",
       "      <td>0</td>\n",
       "      <td>...</td>\n",
       "      <td>2432</td>\n",
       "      <td>2435</td>\n",
       "      <td>2436</td>\n",
       "      <td>2438</td>\n",
       "      <td>2440</td>\n",
       "      <td>2441</td>\n",
       "      <td>2442</td>\n",
       "      <td>2444</td>\n",
       "      <td>2445</td>\n",
       "      <td>2447</td>\n",
       "    </tr>\n",
       "    <tr>\n",
       "      <th>Algeria</th>\n",
       "      <td>0</td>\n",
       "      <td>0</td>\n",
       "      <td>0</td>\n",
       "      <td>0</td>\n",
       "      <td>0</td>\n",
       "      <td>0</td>\n",
       "      <td>0</td>\n",
       "      <td>0</td>\n",
       "      <td>0</td>\n",
       "      <td>0</td>\n",
       "      <td>...</td>\n",
       "      <td>3374</td>\n",
       "      <td>3381</td>\n",
       "      <td>3388</td>\n",
       "      <td>3395</td>\n",
       "      <td>3401</td>\n",
       "      <td>3405</td>\n",
       "      <td>3411</td>\n",
       "      <td>3418</td>\n",
       "      <td>3426</td>\n",
       "      <td>3433</td>\n",
       "    </tr>\n",
       "    <tr>\n",
       "      <th>Andorra</th>\n",
       "      <td>0</td>\n",
       "      <td>0</td>\n",
       "      <td>0</td>\n",
       "      <td>0</td>\n",
       "      <td>0</td>\n",
       "      <td>0</td>\n",
       "      <td>0</td>\n",
       "      <td>0</td>\n",
       "      <td>0</td>\n",
       "      <td>0</td>\n",
       "      <td>...</td>\n",
       "      <td>127</td>\n",
       "      <td>127</td>\n",
       "      <td>127</td>\n",
       "      <td>127</td>\n",
       "      <td>127</td>\n",
       "      <td>127</td>\n",
       "      <td>127</td>\n",
       "      <td>127</td>\n",
       "      <td>127</td>\n",
       "      <td>127</td>\n",
       "    </tr>\n",
       "    <tr>\n",
       "      <th>Angola</th>\n",
       "      <td>0</td>\n",
       "      <td>0</td>\n",
       "      <td>0</td>\n",
       "      <td>0</td>\n",
       "      <td>0</td>\n",
       "      <td>0</td>\n",
       "      <td>0</td>\n",
       "      <td>0</td>\n",
       "      <td>0</td>\n",
       "      <td>0</td>\n",
       "      <td>...</td>\n",
       "      <td>659</td>\n",
       "      <td>677</td>\n",
       "      <td>685</td>\n",
       "      <td>696</td>\n",
       "      <td>704</td>\n",
       "      <td>709</td>\n",
       "      <td>715</td>\n",
       "      <td>725</td>\n",
       "      <td>731</td>\n",
       "      <td>735</td>\n",
       "    </tr>\n",
       "  </tbody>\n",
       "</table>\n",
       "<p>5 rows × 490 columns</p>\n",
       "</div>"
      ],
      "text/plain": [
       "                1/22/20  1/23/20  1/24/20  1/25/20  1/26/20  1/27/20  1/28/20  \\\n",
       "Country/Region                                                                  \n",
       "Afghanistan           0        0        0        0        0        0        0   \n",
       "Albania               0        0        0        0        0        0        0   \n",
       "Algeria               0        0        0        0        0        0        0   \n",
       "Andorra               0        0        0        0        0        0        0   \n",
       "Angola                0        0        0        0        0        0        0   \n",
       "\n",
       "                1/29/20  1/30/20  1/31/20  ...  5/16/21  5/17/21  5/18/21  \\\n",
       "Country/Region                             ...                              \n",
       "Afghanistan           0        0        0  ...     2742     2745     2751   \n",
       "Albania               0        0        0  ...     2432     2435     2436   \n",
       "Algeria               0        0        0  ...     3374     3381     3388   \n",
       "Andorra               0        0        0  ...      127      127      127   \n",
       "Angola                0        0        0  ...      659      677      685   \n",
       "\n",
       "                5/19/21  5/20/21  5/21/21  5/22/21  5/23/21  5/24/21  5/25/21  \n",
       "Country/Region                                                                 \n",
       "Afghanistan        2762     2772     2782     2792     2802     2812     2836  \n",
       "Albania            2438     2440     2441     2442     2444     2445     2447  \n",
       "Algeria            3395     3401     3405     3411     3418     3426     3433  \n",
       "Andorra             127      127      127      127      127      127      127  \n",
       "Angola              696      704      709      715      725      731      735  \n",
       "\n",
       "[5 rows x 490 columns]"
      ]
     },
     "execution_count": 46,
     "metadata": {},
     "output_type": "execute_result"
    }
   ],
   "source": [
    "corona_death.head()"
   ]
  },
  {
   "cell_type": "code",
   "execution_count": 47,
   "id": "42c980bf",
   "metadata": {},
   "outputs": [
    {
     "data": {
      "text/plain": [
       "(192, 490)"
      ]
     },
     "execution_count": 47,
     "metadata": {},
     "output_type": "execute_result"
    }
   ],
   "source": [
    "corona_death.shape"
   ]
  },
  {
   "cell_type": "code",
   "execution_count": 48,
   "id": "e2d73ffc",
   "metadata": {},
   "outputs": [
    {
     "data": {
      "text/plain": [
       "<matplotlib.legend.Legend at 0x7efd35560198>"
      ]
     },
     "execution_count": 48,
     "metadata": {},
     "output_type": "execute_result"
    },
    {
     "data": {
      "image/png": "[encoded data removed]",
      "text/plain": [
       "<Figure size 432x288 with 1 Axes>"
      ]
     },
     "metadata": {
      "needs_background": "light"
     },
     "output_type": "display_data"
    }
   ],
   "source": [
    "corona_death.loc[\"China\"].plot()\n",
    "corona_death.loc[\"Germany\"].plot()\n",
    "corona_death.loc[\"Taiwan*\"].plot()\n",
    "corona_death.loc[\"US\"].plot()\n",
    "corona_death.loc[\"India\"].plot()\n",
    "corona_death.loc[\"Italy\"].plot()\n",
    "plt.legend()"
   ]
  },
  {
   "cell_type": "code",
   "execution_count": 49,
   "id": "fb68693b",
   "metadata": {},
   "outputs": [],
   "source": [
    "covid19_death = pd.DataFrame(corona_death[\"5/25/21\"])"
   ]
  },
  {
   "cell_type": "code",
   "execution_count": 50,
   "id": "13392b9d",
   "metadata": {},
   "outputs": [
    {
     "data": {
      "text/html": [
       "<div>\n",
       "<style scoped>\n",
       "    .dataframe tbody tr th:only-of-type {\n",
       "        vertical-align: middle;\n",
       "    }\n",
       "\n",
       "    .dataframe tbody tr th {\n",
       "        vertical-align: top;\n",
       "    }\n",
       "\n",
       "    .dataframe thead th {\n",
       "        text-align: right;\n",
       "    }\n",
       "</style>\n",
       "<table border=\"1\" class=\"dataframe\">\n",
       "  <thead>\n",
       "    <tr style=\"text-align: right;\">\n",
       "      <th></th>\n",
       "      <th>5/25/21</th>\n",
       "    </tr>\n",
       "    <tr>\n",
       "      <th>Country/Region</th>\n",
       "      <th></th>\n",
       "    </tr>\n",
       "  </thead>\n",
       "  <tbody>\n",
       "    <tr>\n",
       "      <th>Afghanistan</th>\n",
       "      <td>2836</td>\n",
       "    </tr>\n",
       "    <tr>\n",
       "      <th>Albania</th>\n",
       "      <td>2447</td>\n",
       "    </tr>\n",
       "    <tr>\n",
       "      <th>Algeria</th>\n",
       "      <td>3433</td>\n",
       "    </tr>\n",
       "    <tr>\n",
       "      <th>Andorra</th>\n",
       "      <td>127</td>\n",
       "    </tr>\n",
       "    <tr>\n",
       "      <th>Angola</th>\n",
       "      <td>735</td>\n",
       "    </tr>\n",
       "  </tbody>\n",
       "</table>\n",
       "</div>"
      ],
      "text/plain": [
       "                5/25/21\n",
       "Country/Region         \n",
       "Afghanistan        2836\n",
       "Albania            2447\n",
       "Algeria            3433\n",
       "Andorra             127\n",
       "Angola              735"
      ]
     },
     "execution_count": 50,
     "metadata": {},
     "output_type": "execute_result"
    }
   ],
   "source": [
    "covid19_death.head()"
   ]
  },
  {
   "cell_type": "code",
   "execution_count": 51,
   "id": "0f6acbbb",
   "metadata": {},
   "outputs": [
    {
     "data": {
      "text/plain": [
       "5/25/21    4846\n",
       "Name: China, dtype: int64"
      ]
     },
     "execution_count": 51,
     "metadata": {},
     "output_type": "execute_result"
    }
   ],
   "source": [
    "covid19_death.loc[\"China\"]"
   ]
  },
  {
   "cell_type": "code",
   "execution_count": 52,
   "id": "96ddaaa9",
   "metadata": {},
   "outputs": [
    {
     "data": {
      "text/plain": [
       "5/25/21    590941\n",
       "Name: US, dtype: int64"
      ]
     },
     "execution_count": 52,
     "metadata": {},
     "output_type": "execute_result"
    }
   ],
   "source": [
    "covid19_death.loc[\"US\"]"
   ]
  },
  {
   "cell_type": "code",
   "execution_count": 53,
   "id": "5f730095",
   "metadata": {},
   "outputs": [],
   "source": [
    "covid19_death.rename(columns = {\"5/25/21\":\"death_in_total_5/25/21\"},inplace = True)"
   ]
  },
  {
   "cell_type": "code",
   "execution_count": 54,
   "id": "d65cfc63",
   "metadata": {},
   "outputs": [
    {
     "data": {
      "text/html": [
       "<div>\n",
       "<style scoped>\n",
       "    .dataframe tbody tr th:only-of-type {\n",
       "        vertical-align: middle;\n",
       "    }\n",
       "\n",
       "    .dataframe tbody tr th {\n",
       "        vertical-align: top;\n",
       "    }\n",
       "\n",
       "    .dataframe thead th {\n",
       "        text-align: right;\n",
       "    }\n",
       "</style>\n",
       "<table border=\"1\" class=\"dataframe\">\n",
       "  <thead>\n",
       "    <tr style=\"text-align: right;\">\n",
       "      <th></th>\n",
       "      <th>death_in_total_5/25/21</th>\n",
       "    </tr>\n",
       "    <tr>\n",
       "      <th>Country/Region</th>\n",
       "      <th></th>\n",
       "    </tr>\n",
       "  </thead>\n",
       "  <tbody>\n",
       "    <tr>\n",
       "      <th>Afghanistan</th>\n",
       "      <td>2836</td>\n",
       "    </tr>\n",
       "    <tr>\n",
       "      <th>Albania</th>\n",
       "      <td>2447</td>\n",
       "    </tr>\n",
       "    <tr>\n",
       "      <th>Algeria</th>\n",
       "      <td>3433</td>\n",
       "    </tr>\n",
       "    <tr>\n",
       "      <th>Andorra</th>\n",
       "      <td>127</td>\n",
       "    </tr>\n",
       "    <tr>\n",
       "      <th>Angola</th>\n",
       "      <td>735</td>\n",
       "    </tr>\n",
       "  </tbody>\n",
       "</table>\n",
       "</div>"
      ],
      "text/plain": [
       "                death_in_total_5/25/21\n",
       "Country/Region                        \n",
       "Afghanistan                       2836\n",
       "Albania                           2447\n",
       "Algeria                           3433\n",
       "Andorra                            127\n",
       "Angola                             735"
      ]
     },
     "execution_count": 54,
     "metadata": {},
     "output_type": "execute_result"
    }
   ],
   "source": [
    "covid19_death.head()"
   ]
  },
  {
   "cell_type": "code",
   "execution_count": 55,
   "id": "43c7a66a",
   "metadata": {},
   "outputs": [],
   "source": [
    "data2 = covid19_death.join(happiness_report_csv,how = \"inner\")"
   ]
  },
  {
   "cell_type": "code",
   "execution_count": 56,
   "id": "6e683954",
   "metadata": {},
   "outputs": [
    {
     "data": {
      "text/html": [
       "<div>\n",
       "<style scoped>\n",
       "    .dataframe tbody tr th:only-of-type {\n",
       "        vertical-align: middle;\n",
       "    }\n",
       "\n",
       "    .dataframe tbody tr th {\n",
       "        vertical-align: top;\n",
       "    }\n",
       "\n",
       "    .dataframe thead th {\n",
       "        text-align: right;\n",
       "    }\n",
       "</style>\n",
       "<table border=\"1\" class=\"dataframe\">\n",
       "  <thead>\n",
       "    <tr style=\"text-align: right;\">\n",
       "      <th></th>\n",
       "      <th>death_in_total_5/25/21</th>\n",
       "      <th>Log GDP per capita</th>\n",
       "      <th>Social support</th>\n",
       "      <th>Healthy life expectancy</th>\n",
       "      <th>Freedom to make life choices</th>\n",
       "    </tr>\n",
       "  </thead>\n",
       "  <tbody>\n",
       "    <tr>\n",
       "      <th>Afghanistan</th>\n",
       "      <td>2836</td>\n",
       "      <td>0.370</td>\n",
       "      <td>0.000</td>\n",
       "      <td>0.126</td>\n",
       "      <td>0.000</td>\n",
       "    </tr>\n",
       "    <tr>\n",
       "      <th>Albania</th>\n",
       "      <td>2447</td>\n",
       "      <td>1.008</td>\n",
       "      <td>0.529</td>\n",
       "      <td>0.646</td>\n",
       "      <td>0.491</td>\n",
       "    </tr>\n",
       "    <tr>\n",
       "      <th>Algeria</th>\n",
       "      <td>3433</td>\n",
       "      <td>0.946</td>\n",
       "      <td>0.765</td>\n",
       "      <td>0.552</td>\n",
       "      <td>0.119</td>\n",
       "    </tr>\n",
       "    <tr>\n",
       "      <th>Argentina</th>\n",
       "      <td>75056</td>\n",
       "      <td>1.162</td>\n",
       "      <td>0.980</td>\n",
       "      <td>0.646</td>\n",
       "      <td>0.544</td>\n",
       "    </tr>\n",
       "    <tr>\n",
       "      <th>Armenia</th>\n",
       "      <td>4400</td>\n",
       "      <td>0.996</td>\n",
       "      <td>0.758</td>\n",
       "      <td>0.585</td>\n",
       "      <td>0.540</td>\n",
       "    </tr>\n",
       "  </tbody>\n",
       "</table>\n",
       "</div>"
      ],
      "text/plain": [
       "             death_in_total_5/25/21  Log GDP per capita  Social support  \\\n",
       "Afghanistan                    2836               0.370           0.000   \n",
       "Albania                        2447               1.008           0.529   \n",
       "Algeria                        3433               0.946           0.765   \n",
       "Argentina                     75056               1.162           0.980   \n",
       "Armenia                        4400               0.996           0.758   \n",
       "\n",
       "             Healthy life expectancy  Freedom to make life choices  \n",
       "Afghanistan                    0.126                         0.000  \n",
       "Albania                        0.646                         0.491  \n",
       "Algeria                        0.552                         0.119  \n",
       "Argentina                      0.646                         0.544  \n",
       "Armenia                        0.585                         0.540  "
      ]
     },
     "execution_count": 56,
     "metadata": {},
     "output_type": "execute_result"
    }
   ],
   "source": [
    "data2.head()"
   ]
  },
  {
   "cell_type": "code",
   "execution_count": 57,
   "id": "2134c7d9",
   "metadata": {},
   "outputs": [
    {
     "data": {
      "text/html": [
       "<div>\n",
       "<style scoped>\n",
       "    .dataframe tbody tr th:only-of-type {\n",
       "        vertical-align: middle;\n",
       "    }\n",
       "\n",
       "    .dataframe tbody tr th {\n",
       "        vertical-align: top;\n",
       "    }\n",
       "\n",
       "    .dataframe thead th {\n",
       "        text-align: right;\n",
       "    }\n",
       "</style>\n",
       "<table border=\"1\" class=\"dataframe\">\n",
       "  <thead>\n",
       "    <tr style=\"text-align: right;\">\n",
       "      <th></th>\n",
       "      <th>death_in_total_5/25/21</th>\n",
       "      <th>Log GDP per capita</th>\n",
       "      <th>Social support</th>\n",
       "      <th>Healthy life expectancy</th>\n",
       "      <th>Freedom to make life choices</th>\n",
       "    </tr>\n",
       "  </thead>\n",
       "  <tbody>\n",
       "    <tr>\n",
       "      <th>Afghanistan</th>\n",
       "      <td>2836</td>\n",
       "      <td>0.370</td>\n",
       "      <td>0.000</td>\n",
       "      <td>0.126</td>\n",
       "      <td>0.000</td>\n",
       "    </tr>\n",
       "    <tr>\n",
       "      <th>Albania</th>\n",
       "      <td>2447</td>\n",
       "      <td>1.008</td>\n",
       "      <td>0.529</td>\n",
       "      <td>0.646</td>\n",
       "      <td>0.491</td>\n",
       "    </tr>\n",
       "    <tr>\n",
       "      <th>Algeria</th>\n",
       "      <td>3433</td>\n",
       "      <td>0.946</td>\n",
       "      <td>0.765</td>\n",
       "      <td>0.552</td>\n",
       "      <td>0.119</td>\n",
       "    </tr>\n",
       "    <tr>\n",
       "      <th>Argentina</th>\n",
       "      <td>75056</td>\n",
       "      <td>1.162</td>\n",
       "      <td>0.980</td>\n",
       "      <td>0.646</td>\n",
       "      <td>0.544</td>\n",
       "    </tr>\n",
       "    <tr>\n",
       "      <th>Armenia</th>\n",
       "      <td>4400</td>\n",
       "      <td>0.996</td>\n",
       "      <td>0.758</td>\n",
       "      <td>0.585</td>\n",
       "      <td>0.540</td>\n",
       "    </tr>\n",
       "    <tr>\n",
       "      <th>...</th>\n",
       "      <td>...</td>\n",
       "      <td>...</td>\n",
       "      <td>...</td>\n",
       "      <td>...</td>\n",
       "      <td>...</td>\n",
       "    </tr>\n",
       "    <tr>\n",
       "      <th>Venezuela</th>\n",
       "      <td>2544</td>\n",
       "      <td>0.852</td>\n",
       "      <td>0.897</td>\n",
       "      <td>0.574</td>\n",
       "      <td>0.284</td>\n",
       "    </tr>\n",
       "    <tr>\n",
       "      <th>Vietnam</th>\n",
       "      <td>44</td>\n",
       "      <td>0.817</td>\n",
       "      <td>0.873</td>\n",
       "      <td>0.616</td>\n",
       "      <td>0.679</td>\n",
       "    </tr>\n",
       "    <tr>\n",
       "      <th>Yemen</th>\n",
       "      <td>1311</td>\n",
       "      <td>0.329</td>\n",
       "      <td>0.831</td>\n",
       "      <td>0.272</td>\n",
       "      <td>0.268</td>\n",
       "    </tr>\n",
       "    <tr>\n",
       "      <th>Zambia</th>\n",
       "      <td>1271</td>\n",
       "      <td>0.528</td>\n",
       "      <td>0.552</td>\n",
       "      <td>0.231</td>\n",
       "      <td>0.487</td>\n",
       "    </tr>\n",
       "    <tr>\n",
       "      <th>Zimbabwe</th>\n",
       "      <td>1587</td>\n",
       "      <td>0.457</td>\n",
       "      <td>0.649</td>\n",
       "      <td>0.243</td>\n",
       "      <td>0.359</td>\n",
       "    </tr>\n",
       "  </tbody>\n",
       "</table>\n",
       "<p>138 rows × 5 columns</p>\n",
       "</div>"
      ],
      "text/plain": [
       "             death_in_total_5/25/21  Log GDP per capita  Social support  \\\n",
       "Afghanistan                    2836               0.370           0.000   \n",
       "Albania                        2447               1.008           0.529   \n",
       "Algeria                        3433               0.946           0.765   \n",
       "Argentina                     75056               1.162           0.980   \n",
       "Armenia                        4400               0.996           0.758   \n",
       "...                             ...                 ...             ...   \n",
       "Venezuela                      2544               0.852           0.897   \n",
       "Vietnam                          44               0.817           0.873   \n",
       "Yemen                          1311               0.329           0.831   \n",
       "Zambia                         1271               0.528           0.552   \n",
       "Zimbabwe                       1587               0.457           0.649   \n",
       "\n",
       "             Healthy life expectancy  Freedom to make life choices  \n",
       "Afghanistan                    0.126                         0.000  \n",
       "Albania                        0.646                         0.491  \n",
       "Algeria                        0.552                         0.119  \n",
       "Argentina                      0.646                         0.544  \n",
       "Armenia                        0.585                         0.540  \n",
       "...                              ...                           ...  \n",
       "Venezuela                      0.574                         0.284  \n",
       "Vietnam                        0.616                         0.679  \n",
       "Yemen                          0.272                         0.268  \n",
       "Zambia                         0.231                         0.487  \n",
       "Zimbabwe                       0.243                         0.359  \n",
       "\n",
       "[138 rows x 5 columns]"
      ]
     },
     "execution_count": 57,
     "metadata": {},
     "output_type": "execute_result"
    }
   ],
   "source": [
    "data2"
   ]
  },
  {
   "cell_type": "code",
   "execution_count": 58,
   "id": "1cc18d51",
   "metadata": {},
   "outputs": [
    {
     "name": "stdout",
     "output_type": "stream",
     "text": [
      "p-value:\t 0.09852553041725232\n",
      "cor:\t\t 0.1412101800920428\n"
     ]
    }
   ],
   "source": [
    "corr = stats.pearsonr(data2[\"death_in_total_5/25/21\"],data2[\"Log GDP per capita\"])\n",
    "print(\"p-value:\\t\", corr[1])\n",
    "print(\"cor:\\t\\t\", corr[0])"
   ]
  },
  {
   "cell_type": "code",
   "execution_count": 59,
   "id": "0dbbf161",
   "metadata": {},
   "outputs": [
    {
     "data": {
      "text/plain": [
       "<AxesSubplot:xlabel='Log GDP per capita', ylabel='death_in_total_5/25/21'>"
      ]
     },
     "execution_count": 59,
     "metadata": {},
     "output_type": "execute_result"
    },
    {
     "data": {
      "image/png": "[encoded data removed]",
      "text/plain": [
       "<Figure size 432x288 with 1 Axes>"
      ]
     },
     "metadata": {
      "needs_background": "light"
     },
     "output_type": "display_data"
    }
   ],
   "source": [
    "x = data2[\"Log GDP per capita\"]\n",
    "y = data2[\"death_in_total_5/25/21\"]\n",
    "sns.scatterplot(x,np.log(y))"
   ]
  },
  {
   "cell_type": "code",
   "execution_count": 60,
   "id": "5fea95af",
   "metadata": {},
   "outputs": [
    {
     "data": {
      "text/plain": [
       "<AxesSubplot:xlabel='Log GDP per capita', ylabel='death_in_total_5/25/21'>"
      ]
     },
     "execution_count": 60,
     "metadata": {},
     "output_type": "execute_result"
    },
    {
     "data": {
      "image/png": "[encoded data removed]",
      "text/plain": [
       "<Figure size 432x288 with 1 Axes>"
      ]
     },
     "metadata": {
      "needs_background": "light"
     },
     "output_type": "display_data"
    }
   ],
   "source": [
    "sns.regplot(x,np.log(y))"
   ]
  },
  {
   "cell_type": "code",
   "execution_count": null,
   "id": "05a3a265",
   "metadata": {},
   "outputs": [],
   "source": []
  }
 ],
 "metadata": {
  "kernelspec": {
   "display_name": "Python 3",
   "language": "python",
   "name": "python3"
  },
  "language_info": {
   "codemirror_mode": {
    "name": "ipython",
    "version": 3
   },
   "file_extension": ".py",
   "mimetype": "text/x-python",
   "name": "python",
   "nbconvert_exporter": "python",
   "pygments_lexer": "ipython3",
   "version": "3.6.9"
  }
 },
 "nbformat": 4,
 "nbformat_minor": 5
}
